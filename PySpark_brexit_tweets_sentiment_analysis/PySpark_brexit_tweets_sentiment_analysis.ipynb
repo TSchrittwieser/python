{
 "cells": [
  {
   "cell_type": "markdown",
   "metadata": {},
   "source": [
    "<b><font size=\"6\">Assignment 4<br>Visualisierung der Brexit-Tweets mit Spark (ohne SQL)</font></b>\n",
    "\n",
    "**BDT ILV bds19: Big Data Technologien ILV**  \n",
    "**Data Science & Business Analytics**\n",
    "\n",
    "Autor: Thomas Schrittwieser, DS191004  \n",
    "Datum: 2020-12-15\n",
    "\n",
    "---"
   ]
  },
  {
   "cell_type": "markdown",
   "metadata": {},
   "source": [
    "# Aufgabenstellung\n",
    "\n",
    "Erweitern Sie das beigefügte Jupyter Notebook um den Split in Leave- und Remain-Befürworter anhand der Hashtags wie in der letzten Aufgabe - mit Hilfe der Spark DataFrame API."
   ]
  },
  {
   "cell_type": "code",
   "execution_count": 1,
   "metadata": {},
   "outputs": [],
   "source": [
    "import pandas as pd\n",
    "import matplotlib.pyplot as plt\n",
    "from matplotlib.ticker import PercentFormatter\n",
    "\n",
    "# matplotlib styles\n",
    "%matplotlib inline\n",
    "plt.style.use('seaborn')"
   ]
  },
  {
   "cell_type": "code",
   "execution_count": 2,
   "metadata": {},
   "outputs": [],
   "source": [
    "import findspark\n",
    "findspark.init()"
   ]
  },
  {
   "cell_type": "code",
   "execution_count": 3,
   "metadata": {},
   "outputs": [],
   "source": [
    "from pyspark.sql import SparkSession\n",
    "spark = SparkSession.builder.appName(\"jupyter\").getOrCreate()\n",
    "#spark = SparkSession.builder.appName(\"jupyter\").master(\"spark://hadoop.priebe.io:7077\").getOrCreate()\n",
    "#sc = spark.sparkContext"
   ]
  },
  {
   "cell_type": "code",
   "execution_count": 4,
   "metadata": {},
   "outputs": [],
   "source": [
    "# Set pointer on csv-file\n",
    "df = spark.read.format('csv') \\\n",
    "    .option('header', 'true') \\\n",
    "    .option('inferSchema', 'true') \\\n",
    "    .load(\"hdfs://hadoop.priebe.io:9000/user/lbpriebe/sentiment/brexit_sentiment.csv\")"
   ]
  },
  {
   "cell_type": "code",
   "execution_count": 5,
   "metadata": {},
   "outputs": [
    {
     "name": "stdout",
     "output_type": "stream",
     "text": [
      "+----------+------------------+-------------------+--------------------+\n",
      "| sentiment|                id|            created|            hashtags|\n",
      "+----------+------------------+-------------------+--------------------+\n",
      "|0.23544335|736284933686239233|2016-05-27T19:56:22|              brexit|\n",
      "| 0.9788283|736284905710211073|2016-05-27T19:56:15|euref|strongerin|...|\n",
      "|0.76723874|736284877084065792|2016-05-27T19:56:08|brexit|voteremain...|\n",
      "|0.43008626|736284846151106563|2016-05-27T19:56:01|              brexit|\n",
      "| 0.7955383|736284840992092160|2016-05-27T19:56:00|        brexit|euref|\n",
      "+----------+------------------+-------------------+--------------------+\n",
      "only showing top 5 rows\n",
      "\n",
      "root\n",
      " |-- sentiment: double (nullable = true)\n",
      " |-- id: long (nullable = true)\n",
      " |-- created: string (nullable = true)\n",
      " |-- hashtags: string (nullable = true)\n",
      "\n"
     ]
    }
   ],
   "source": [
    "# Show dataframe & schema\n",
    "df.show(5)\n",
    "df.printSchema()"
   ]
  },
  {
   "cell_type": "code",
   "execution_count": 6,
   "metadata": {},
   "outputs": [
    {
     "name": "stdout",
     "output_type": "stream",
     "text": [
      "+----------+------------------+-------------------+--------------------+\n",
      "| sentiment|                id|            created|            hashtags|\n",
      "+----------+------------------+-------------------+--------------------+\n",
      "|0.23544335|736284933686239233|2016-05-27 19:56:22|              brexit|\n",
      "| 0.9788283|736284905710211073|2016-05-27 19:56:15|euref|strongerin|...|\n",
      "|0.76723874|736284877084065792|2016-05-27 19:56:08|brexit|voteremain...|\n",
      "|0.43008626|736284846151106563|2016-05-27 19:56:01|              brexit|\n",
      "| 0.7955383|736284840992092160|2016-05-27 19:56:00|        brexit|euref|\n",
      "+----------+------------------+-------------------+--------------------+\n",
      "only showing top 5 rows\n",
      "\n",
      "root\n",
      " |-- sentiment: double (nullable = true)\n",
      " |-- id: long (nullable = true)\n",
      " |-- created: timestamp (nullable = true)\n",
      " |-- hashtags: string (nullable = true)\n",
      "\n"
     ]
    }
   ],
   "source": [
    "# Convert timestamp\n",
    "from pyspark.sql.types import *\n",
    "from pyspark.sql.functions import unix_timestamp\n",
    "\n",
    "df = df.withColumn(\"created\", unix_timestamp(df['created'], \"yyyy-MM-dd'T'HH:mm:ss\").cast(TimestampType()))\n",
    "df.show(5)\n",
    "df.printSchema()"
   ]
  },
  {
   "cell_type": "code",
   "execution_count": 7,
   "metadata": {},
   "outputs": [
    {
     "name": "stdout",
     "output_type": "stream",
     "text": [
      "+----------+------------------+-------------------+--------------------+------------+\n",
      "| sentiment|                id|            created|            hashtags|created_date|\n",
      "+----------+------------------+-------------------+--------------------+------------+\n",
      "|0.23544335|736284933686239233|2016-05-27 19:56:22|              brexit|  2016-05-27|\n",
      "| 0.9788283|736284905710211073|2016-05-27 19:56:15|euref|strongerin|...|  2016-05-27|\n",
      "|0.76723874|736284877084065792|2016-05-27 19:56:08|brexit|voteremain...|  2016-05-27|\n",
      "|0.43008626|736284846151106563|2016-05-27 19:56:01|              brexit|  2016-05-27|\n",
      "| 0.7955383|736284840992092160|2016-05-27 19:56:00|        brexit|euref|  2016-05-27|\n",
      "+----------+------------------+-------------------+--------------------+------------+\n",
      "only showing top 5 rows\n",
      "\n",
      "root\n",
      " |-- sentiment: double (nullable = true)\n",
      " |-- id: long (nullable = true)\n",
      " |-- created: timestamp (nullable = true)\n",
      " |-- hashtags: string (nullable = true)\n",
      " |-- created_date: date (nullable = true)\n",
      "\n"
     ]
    }
   ],
   "source": [
    "# Extract date from column created_date\n",
    "from pyspark.sql.functions import to_date, col\n",
    "\n",
    "df = df.withColumn(\"created_date\", to_date(col(\"created\")))\n",
    "df.show(5)\n",
    "df.printSchema()"
   ]
  },
  {
   "cell_type": "code",
   "execution_count": 8,
   "metadata": {},
   "outputs": [
    {
     "name": "stdout",
     "output_type": "stream",
     "text": [
      "+-----------+------------------+-------------------+--------------------+------------+\n",
      "|  sentiment|                id|            created|            hashtags|created_date|\n",
      "+-----------+------------------+-------------------+--------------------+------------+\n",
      "|  0.9860322|736284627640410112|2016-05-27 19:55:09|           voteleave|  2016-05-27|\n",
      "|  0.6463591|736284563173953537|2016-05-27 19:54:54|           voteleave|  2016-05-27|\n",
      "|  0.9539134|736284326917066752|2016-05-27 19:53:57|voteleave|brexit|...|  2016-05-27|\n",
      "|0.061895013|736284169987366912|2016-05-27 19:53:20|           voteleave|  2016-05-27|\n",
      "| 0.17585549|736283851937439749|2016-05-27 19:52:04|joncker|brexit|eu...|  2016-05-27|\n",
      "+-----------+------------------+-------------------+--------------------+------------+\n",
      "only showing top 5 rows\n",
      "\n"
     ]
    }
   ],
   "source": [
    "# Create dataframe for brexit supporters\n",
    "\n",
    "# hashtags_leave: #Leave, #VoteLeave, #TakeControl, #VoteOut\n",
    "# hashtags_remain: #Remain, #VoteRemain, #StrongerIn, #VoteIn\n",
    "leave = \"hashtags like '%leave%' or hashtags like '%voteleave%' or hashtags like '%takecontrol%' or hashtags like '%voteout%'\"\n",
    "leave_not = \"hashtags not like '%remain%' and hashtags not like '%voteremain%' and hashtags not like '%strongerin%' and hashtags not like '%votein%'\"\n",
    "\n",
    "df_leave = df.where(leave).where(leave_not)\n",
    "df_leave.show(5)"
   ]
  },
  {
   "cell_type": "code",
   "execution_count": 9,
   "metadata": {},
   "outputs": [
    {
     "name": "stdout",
     "output_type": "stream",
     "text": [
      "+----------+------------------+-------------------+--------------------+------------+\n",
      "| sentiment|                id|            created|            hashtags|created_date|\n",
      "+----------+------------------+-------------------+--------------------+------------+\n",
      "| 0.9788283|736284905710211073|2016-05-27 19:56:15|euref|strongerin|...|  2016-05-27|\n",
      "|0.22018415|736284808620429312|2016-05-27 19:55:52|          strongerin|  2016-05-27|\n",
      "|0.42039508|736284655268302849|2016-05-27 19:55:15|          strongerin|  2016-05-27|\n",
      "|0.11619088|736284536846340096|2016-05-27 19:54:47|              remain|  2016-05-27|\n",
      "|  0.984395|736284521629384705|2016-05-27 19:54:44|  liberal|strongerin|  2016-05-27|\n",
      "+----------+------------------+-------------------+--------------------+------------+\n",
      "only showing top 5 rows\n",
      "\n"
     ]
    }
   ],
   "source": [
    "# Create dataframe for brexit opponents\n",
    "\n",
    "# hashtags_leave: #Leave, #VoteLeave, #TakeControl, #VoteOut\n",
    "# hashtags_remain: #Remain, #VoteRemain, #StrongerIn, #VoteIn\n",
    "remain = \"hashtags like '%remain%' or hashtags like '%voteremain%' or hashtags like '%strongerin%' or hashtags like '%votein%'\"\n",
    "remain_not = \"hashtags not like '%leave%' and hashtags not like '%voteleave%' and hashtags not like '%takecontrol%' and hashtags not like '%voteout%'\"\n",
    "\n",
    "df_remain = df.where(remain).where(remain_not)\n",
    "df_remain.show(5)"
   ]
  },
  {
   "cell_type": "code",
   "execution_count": 10,
   "metadata": {},
   "outputs": [
    {
     "name": "stdout",
     "output_type": "stream",
     "text": [
      "+------------+------------------+\n",
      "|created_date|         sentiment|\n",
      "+------------+------------------+\n",
      "|  2016-05-27| 0.596002000947028|\n",
      "|  2016-05-28|0.5854471264903025|\n",
      "|  2016-05-29|0.5777290610841352|\n",
      "|  2016-05-30|0.5827555062301584|\n",
      "|  2016-05-31|0.5680278756547736|\n",
      "+------------+------------------+\n",
      "only showing top 5 rows\n",
      "\n"
     ]
    }
   ],
   "source": [
    "# group by created date\n",
    "df_leave = df_leave.groupBy(\"created_date\").avg(\"sentiment\")\n",
    "#df_leave.show(5)\n",
    "\n",
    "# rename column \"avg(sentiment)\" nach \"sentiment\"\n",
    "df_leave = df_leave.select(col(\"created_date\"), col(\"avg(sentiment)\").alias(\"sentiment\"))\n",
    "#df_leave.show(5)\n",
    "\n",
    "# sort by date\n",
    "df_leave = df_leave.orderBy('created_date')\n",
    "df_leave.show(5)"
   ]
  },
  {
   "cell_type": "code",
   "execution_count": 11,
   "metadata": {},
   "outputs": [
    {
     "name": "stdout",
     "output_type": "stream",
     "text": [
      "+------------+------------------+\n",
      "|created_date|         sentiment|\n",
      "+------------+------------------+\n",
      "|  2016-05-27|0.5801412707694144|\n",
      "|  2016-05-28|0.6435413185081684|\n",
      "|  2016-05-29|0.6070059807585179|\n",
      "|  2016-05-30|0.6247788086584546|\n",
      "|  2016-05-31| 0.591470200469405|\n",
      "+------------+------------------+\n",
      "only showing top 5 rows\n",
      "\n"
     ]
    }
   ],
   "source": [
    "# group by created date\n",
    "df_remain = df_remain.groupBy(\"created_date\").avg(\"sentiment\")\n",
    "#df_remain.show(5)\n",
    "\n",
    "# rename column \"avg(sentiment)\" nach \"sentiment\"\n",
    "df_remain = df_remain.select(col(\"created_date\"), col(\"avg(sentiment)\").alias(\"sentiment\"))\n",
    "#df_remain.show(5)\n",
    "\n",
    "# sort by date\n",
    "df_remain = df_remain.orderBy('created_date')\n",
    "df_remain.show(5)"
   ]
  },
  {
   "cell_type": "code",
   "execution_count": 12,
   "metadata": {},
   "outputs": [],
   "source": [
    "# convert to pandas_df\n",
    "df_leave = df_leave.toPandas()\n",
    "df_leave['created_date'] = pd.to_datetime(df_leave['created_date'])\n",
    "\n",
    "df_remain = df_remain.toPandas()\n",
    "df_remain['created_date'] = pd.to_datetime(df_remain['created_date'])"
   ]
  },
  {
   "cell_type": "code",
   "execution_count": 13,
   "metadata": {},
   "outputs": [
    {
     "data": {
      "text/html": [
       "<div>\n",
       "<style scoped>\n",
       "    .dataframe tbody tr th:only-of-type {\n",
       "        vertical-align: middle;\n",
       "    }\n",
       "\n",
       "    .dataframe tbody tr th {\n",
       "        vertical-align: top;\n",
       "    }\n",
       "\n",
       "    .dataframe thead th {\n",
       "        text-align: right;\n",
       "    }\n",
       "</style>\n",
       "<table border=\"1\" class=\"dataframe\">\n",
       "  <thead>\n",
       "    <tr style=\"text-align: right;\">\n",
       "      <th></th>\n",
       "      <th>count</th>\n",
       "      <th>mean</th>\n",
       "      <th>std</th>\n",
       "      <th>min</th>\n",
       "      <th>25%</th>\n",
       "      <th>50%</th>\n",
       "      <th>75%</th>\n",
       "      <th>max</th>\n",
       "    </tr>\n",
       "  </thead>\n",
       "  <tbody>\n",
       "    <tr>\n",
       "      <th>sentiment</th>\n",
       "      <td>31.0</td>\n",
       "      <td>0.582419</td>\n",
       "      <td>0.027254</td>\n",
       "      <td>0.541109</td>\n",
       "      <td>0.568451</td>\n",
       "      <td>0.577729</td>\n",
       "      <td>0.589739</td>\n",
       "      <td>0.679834</td>\n",
       "    </tr>\n",
       "  </tbody>\n",
       "</table>\n",
       "</div>"
      ],
      "text/plain": [
       "           count      mean       std       min       25%       50%       75%  \\\n",
       "sentiment   31.0  0.582419  0.027254  0.541109  0.568451  0.577729  0.589739   \n",
       "\n",
       "                max  \n",
       "sentiment  0.679834  "
      ]
     },
     "execution_count": 13,
     "metadata": {},
     "output_type": "execute_result"
    }
   ],
   "source": [
    "# statistical analysis of brexit supporters\n",
    "df_leave.describe().T"
   ]
  },
  {
   "cell_type": "code",
   "execution_count": 14,
   "metadata": {},
   "outputs": [
    {
     "data": {
      "text/html": [
       "<div>\n",
       "<style scoped>\n",
       "    .dataframe tbody tr th:only-of-type {\n",
       "        vertical-align: middle;\n",
       "    }\n",
       "\n",
       "    .dataframe tbody tr th {\n",
       "        vertical-align: top;\n",
       "    }\n",
       "\n",
       "    .dataframe thead th {\n",
       "        text-align: right;\n",
       "    }\n",
       "</style>\n",
       "<table border=\"1\" class=\"dataframe\">\n",
       "  <thead>\n",
       "    <tr style=\"text-align: right;\">\n",
       "      <th></th>\n",
       "      <th>count</th>\n",
       "      <th>mean</th>\n",
       "      <th>std</th>\n",
       "      <th>min</th>\n",
       "      <th>25%</th>\n",
       "      <th>50%</th>\n",
       "      <th>75%</th>\n",
       "      <th>max</th>\n",
       "    </tr>\n",
       "  </thead>\n",
       "  <tbody>\n",
       "    <tr>\n",
       "      <th>sentiment</th>\n",
       "      <td>31.0</td>\n",
       "      <td>0.588893</td>\n",
       "      <td>0.031744</td>\n",
       "      <td>0.501721</td>\n",
       "      <td>0.580064</td>\n",
       "      <td>0.586691</td>\n",
       "      <td>0.603642</td>\n",
       "      <td>0.663606</td>\n",
       "    </tr>\n",
       "  </tbody>\n",
       "</table>\n",
       "</div>"
      ],
      "text/plain": [
       "           count      mean       std       min       25%       50%       75%  \\\n",
       "sentiment   31.0  0.588893  0.031744  0.501721  0.580064  0.586691  0.603642   \n",
       "\n",
       "                max  \n",
       "sentiment  0.663606  "
      ]
     },
     "execution_count": 14,
     "metadata": {},
     "output_type": "execute_result"
    }
   ],
   "source": [
    "# statistical analysis of brexit opponents\n",
    "df_remain.describe().T"
   ]
  },
  {
   "cell_type": "code",
   "execution_count": 15,
   "metadata": {},
   "outputs": [
    {
     "data": {
      "image/png": "[encoded data removed]",
      "text/plain": [
       "<Figure size 1152x576 with 1 Axes>"
      ]
     },
     "metadata": {},
     "output_type": "display_data"
    }
   ],
   "source": [
    "# plot timeline of sentiment analysis splitted to brexit supporters and brexit opponents\n",
    "fig, ax = plt.subplots(figsize=(16,8))\n",
    "ax.plot_date(df_leave['created_date'], df_leave['sentiment']*100, fmt='-', color='orange', label = 'Brexit supporters')\n",
    "ax.plot_date(df_remain['created_date'], df_remain['sentiment']*100, fmt='-', color='blue', label = 'Brexit opponents')\n",
    "ax.set_title('Sentiment analysis of Brexit tweets', fontsize=14, fontweight=\"bold\")\n",
    "ax.set_ylim(48,69)\n",
    "ax.set_xlabel('Date', fontsize=12)\n",
    "ax.set_ylabel('Sentiment', fontsize=12)\n",
    "ax.tick_params(axis='x', labelrotation=30)\n",
    "ax.yaxis.set_major_formatter(PercentFormatter(decimals=0))\n",
    "\n",
    "ax.text(pd.to_datetime('2016-06-23'), 67, \n",
    "        '2016-06-23\\nBrexit referendum', \n",
    "        fontsize=12, fontweight='bold', \n",
    "        verticalalignment='bottom', \n",
    "        horizontalalignment='center')\n",
    "\n",
    "plt.legend(loc='upper left', fontsize=12)\n",
    "plt.savefig('brexit_tweets_plot_sentiment_analysis');"
   ]
  },
  {
   "cell_type": "code",
   "execution_count": null,
   "metadata": {},
   "outputs": [],
   "source": []
  }
 ],
 "metadata": {
  "kernelspec": {
   "display_name": "Python 3",
   "language": "python",
   "name": "python3"
  },
  "language_info": {
   "codemirror_mode": {
    "name": "ipython",
    "version": 3
   },
   "file_extension": ".py",
   "mimetype": "text/x-python",
   "name": "python",
   "nbconvert_exporter": "python",
   "pygments_lexer": "ipython3",
   "version": "3.7.3"
  }
 },
 "nbformat": 4,
 "nbformat_minor": 4
}
