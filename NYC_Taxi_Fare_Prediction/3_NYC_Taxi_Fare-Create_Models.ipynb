{
 "cells": [
  {
   "cell_type": "markdown",
   "metadata": {},
   "source": [
    "<b><font size=\"6\">New York City Taxi Fare Prediction Playground Competition</br>\n",
    "    Create Linear Regression Models</font></b>\n",
    "\n",
    "**PDS ILV bds19: Summer School**  \n",
    "**Data Science & Business Analytics**\n",
    "\n",
    "Autor: Thomas Schrittwieser, DS191004  \n",
    "Datum: 2020-07-20\n",
    "\n",
    "---"
   ]
  },
  {
   "cell_type": "code",
   "execution_count": 48,
   "metadata": {},
   "outputs": [],
   "source": [
    "# load some default Python modules\n",
    "import numpy as np\n",
    "import pandas as pd\n",
    "import matplotlib.pyplot as plt\n",
    "import seaborn as sns\n",
    "\n",
    "from sklearn.model_selection import train_test_split, GridSearchCV\n",
    "\n",
    "from sklearn.preprocessing import StandardScaler\n",
    "from sklearn.preprocessing import PolynomialFeatures\n",
    "#from sklearn.preprocessing import MinMaxScaler\n",
    "\n",
    "from sklearn.linear_model import LinearRegression\n",
    "from sklearn.linear_model import Ridge\n",
    "from sklearn.linear_model import SGDRegressor\n",
    "#from sklearn.linear_model import Lasso\n",
    "\n",
    "from sklearn.metrics import mean_squared_error, explained_variance_score, r2_score\n",
    "from sklearn.pipeline import Pipeline\n",
    "#from sklearn.tree import DecisionTreeRegressor\n",
    "from sklearn.ensemble import RandomForestRegressor\n",
    "\n",
    "%matplotlib inline\n",
    "plt.style.use('seaborn')"
   ]
  },
  {
   "cell_type": "markdown",
   "metadata": {},
   "source": [
    "## Configuration"
   ]
  },
  {
   "cell_type": "code",
   "execution_count": 49,
   "metadata": {},
   "outputs": [],
   "source": [
    "# Configuration\n",
    "\n",
    "show_diagrams = 1     # If you want to see the diagrams, choose show_diagrams = 1\n",
    "random_sample_df = 1  # If you want to work with a sample dataframe, choose random_sample_df = 1\n",
    "write_to_feather = 0  # If you want to store the cleaned file as feather file, choose write_to_feather = 1\n",
    "\n",
    "# Coordinates of New York City\n",
    "nyc = (-74.0063889, 40.7141667)\n",
    "\n",
    "# input filename\n",
    "input_file = '../data/new-york-city-taxi-fare-prediction/nyc_taxi_data_cleaned.feather'"
   ]
  },
  {
   "cell_type": "markdown",
   "metadata": {},
   "source": [
    "## Functions"
   ]
  },
  {
   "cell_type": "code",
   "execution_count": 50,
   "metadata": {},
   "outputs": [],
   "source": [
    "# Calculate the distance in miles between locations in lon,lat coordinates.\n",
    "# This function is based on https://stackoverflow.com/questions/27928/\n",
    "# calculate-distance-between-two-latitude-longitude-points-haversine-formula \n",
    "# return distance in miles\n",
    "def distance(lat1, lon1, lat2, lon2):\n",
    "    p = 0.017453292519943295 # Pi/180\n",
    "    a = 0.5 - np.cos((lat2 - lat1) * p)/2 + np.cos(lat1 * p) * np.cos(lat2 * p) * (1 - np.cos((lon2 - lon1) * p)) / 2\n",
    "    return 0.6213712 * 12742 * np.arcsin(np.sqrt(a)) # 2*R*asin..."
   ]
  },
  {
   "cell_type": "code",
   "execution_count": 51,
   "metadata": {
    "_uuid": "7ec943bdefd82059204fcd83132e6fa3542d7584"
   },
   "outputs": [],
   "source": [
    "# define some handy analysis support function\n",
    "\n",
    "def plot_prediction_analysis(y, y_pred, figsize=(10,4), title=''):\n",
    "    fig, axs = plt.subplots(1, 2, figsize=figsize)\n",
    "    axs[0].scatter(y, y_pred)\n",
    "    mn = min(np.min(y), np.min(y_pred))\n",
    "    mx = max(np.max(y), np.max(y_pred))\n",
    "    axs[0].plot([mn, mx], [mn, mx], c='red')\n",
    "    axs[0].set_xlabel('$y$')\n",
    "    axs[0].set_ylabel('$\\hat{y}$')\n",
    "    rmse = np.sqrt(mean_squared_error(y, y_pred))\n",
    "    evs = explained_variance_score(y, y_pred)\n",
    "    axs[0].set_title('rmse = {:.2f}, evs = {:.2f}'.format(rmse, evs))\n",
    "    \n",
    "    axs[1].hist(y-y_pred, bins=50)\n",
    "    avg = np.mean(y-y_pred)\n",
    "    std = np.std(y-y_pred)\n",
    "    axs[1].set_xlabel('$y - \\hat{y}$')\n",
    "    axs[1].set_title('Histrogram prediction error, $\\mu$ = {:.2f}, $\\sigma$ = {:.2f}'.format(avg, std))\n",
    "    \n",
    "    if title!='':\n",
    "        fig.suptitle(title)"
   ]
  },
  {
   "cell_type": "code",
   "execution_count": 52,
   "metadata": {},
   "outputs": [],
   "source": [
    "# calculates the scores of the regression model\n",
    "def calc_scores(model, X_train, X_test, y_train, y_test):\n",
    "    y_train_pred = model.predict(X_train)\n",
    "    y_test_pred = model.predict(X_test)\n",
    "    reg_train_score = model.score(X_train, y_train)\n",
    "    reg_test_score = model.score(X_test, y_test)\n",
    "    r2_train_score = r2_score(y_train, y_train_pred)\n",
    "    r2_test_score = r2_score(y_test, y_test_pred)\n",
    "    return (reg_train_score, reg_test_score, r2_train_score, r2_test_score)"
   ]
  },
  {
   "cell_type": "code",
   "execution_count": 53,
   "metadata": {},
   "outputs": [],
   "source": [
    "# Format the score in percent for output\n",
    "def format_score(score):\n",
    "    return (f'{score*100:.2f}%')"
   ]
  },
  {
   "cell_type": "code",
   "execution_count": 65,
   "metadata": {},
   "outputs": [],
   "source": [
    "# Output the model scores \n",
    "def print_scores(model, model_name, scores):\n",
    "    print(f'Model:\\n{model}\\n')\n",
    "\n",
    "    print(f'{model_name} Score:')\n",
    "    print(f'Train Score: {format_score(scores[0])}')\n",
    "    print(f'Test Score: {format_score(scores[1])}')\n",
    "\n",
    "    print('\\nR^2 Score:')\n",
    "    print(f'On train data: {format_score(scores[2])}')\n",
    "    print(f'on test data: {format_score(scores[3])}')"
   ]
  },
  {
   "cell_type": "code",
   "execution_count": 55,
   "metadata": {},
   "outputs": [],
   "source": [
    "# Function to print best hyperparamaters: \n",
    "def print_best_params(gd_model):\n",
    "    param_dict = gd_model.best_estimator_.get_params()\n",
    "    model_str = str(gd_model.estimator).split('(')[0]\n",
    "    print(\"\\n*** {} Best Parameters ***\".format(model_str))\n",
    "    for k in param_dict:\n",
    "        print(\"{}: {}\".format(k, param_dict[k]))"
   ]
  },
  {
   "cell_type": "markdown",
   "metadata": {},
   "source": [
    "# Reading data and first exploration"
   ]
  },
  {
   "cell_type": "code",
   "execution_count": 6,
   "metadata": {},
   "outputs": [],
   "source": [
    "# load the feather-file with the cleaned taxi data which was created in file '2_NYC Taxi Fare - Cleaning.ipynb'\n",
    "df = pd.read_feather(input_file)\n",
    "df.drop(columns=['index'], inplace=True)"
   ]
  },
  {
   "cell_type": "code",
   "execution_count": 7,
   "metadata": {},
   "outputs": [
    {
     "name": "stdout",
     "output_type": "stream",
     "text": [
      "<class 'pandas.core.frame.DataFrame'>\n",
      "Int64Index: 5000000 entries, 28191451 to 39918046\n",
      "Data columns (total 14 columns):\n",
      " #   Column             Dtype              \n",
      "---  ------             -----              \n",
      " 0   fare_amount        float32            \n",
      " 1   pickup_datetime    datetime64[ns, UTC]\n",
      " 2   pickup_longitude   float32            \n",
      " 3   pickup_latitude    float32            \n",
      " 4   dropoff_longitude  float32            \n",
      " 5   dropoff_latitude   float32            \n",
      " 6   passenger_count    uint8              \n",
      " 7   distance           float32            \n",
      " 8   price/mile         float32            \n",
      " 9   year               uint16             \n",
      " 10  month              uint8              \n",
      " 11  day                uint8              \n",
      " 12  wday               uint8              \n",
      " 13  hour               uint8              \n",
      "dtypes: datetime64[ns, UTC](1), float32(7), uint16(1), uint8(5)\n",
      "memory usage: 243.2 MB\n"
     ]
    }
   ],
   "source": [
    "# Create a random sample dataframe with 2_000_000 elements\n",
    "if random_sample_df == 1:\n",
    "    df = df.sample(n=5_000_000, random_state=1)\n",
    "\n",
    "# Save the shape of the initial dataframe for further use\n",
    "df_initial_shape = df.shape\n",
    "df.info()"
   ]
  },
  {
   "cell_type": "code",
   "execution_count": 8,
   "metadata": {},
   "outputs": [
    {
     "data": {
      "text/html": [
       "<div>\n",
       "<style scoped>\n",
       "    .dataframe tbody tr th:only-of-type {\n",
       "        vertical-align: middle;\n",
       "    }\n",
       "\n",
       "    .dataframe tbody tr th {\n",
       "        vertical-align: top;\n",
       "    }\n",
       "\n",
       "    .dataframe thead th {\n",
       "        text-align: right;\n",
       "    }\n",
       "</style>\n",
       "<table border=\"1\" class=\"dataframe\">\n",
       "  <thead>\n",
       "    <tr style=\"text-align: right;\">\n",
       "      <th></th>\n",
       "      <th>fare_amount</th>\n",
       "      <th>pickup_datetime</th>\n",
       "      <th>pickup_longitude</th>\n",
       "      <th>pickup_latitude</th>\n",
       "      <th>dropoff_longitude</th>\n",
       "      <th>dropoff_latitude</th>\n",
       "      <th>passenger_count</th>\n",
       "      <th>distance</th>\n",
       "      <th>price/mile</th>\n",
       "      <th>year</th>\n",
       "      <th>month</th>\n",
       "      <th>day</th>\n",
       "      <th>wday</th>\n",
       "      <th>hour</th>\n",
       "    </tr>\n",
       "  </thead>\n",
       "  <tbody>\n",
       "    <tr>\n",
       "      <th>28191451</th>\n",
       "      <td>9.5</td>\n",
       "      <td>2012-10-28 12:44:00+00:00</td>\n",
       "      <td>-73.967438</td>\n",
       "      <td>40.759869</td>\n",
       "      <td>-73.992729</td>\n",
       "      <td>40.742847</td>\n",
       "      <td>1</td>\n",
       "      <td>1.770742</td>\n",
       "      <td>5.364984</td>\n",
       "      <td>2012</td>\n",
       "      <td>10</td>\n",
       "      <td>28</td>\n",
       "      <td>6</td>\n",
       "      <td>12</td>\n",
       "    </tr>\n",
       "    <tr>\n",
       "      <th>25762660</th>\n",
       "      <td>7.0</td>\n",
       "      <td>2015-02-22 21:16:00+00:00</td>\n",
       "      <td>-73.991203</td>\n",
       "      <td>40.751041</td>\n",
       "      <td>-73.970543</td>\n",
       "      <td>40.748905</td>\n",
       "      <td>1</td>\n",
       "      <td>1.091447</td>\n",
       "      <td>6.413502</td>\n",
       "      <td>2015</td>\n",
       "      <td>2</td>\n",
       "      <td>22</td>\n",
       "      <td>6</td>\n",
       "      <td>21</td>\n",
       "    </tr>\n",
       "    <tr>\n",
       "      <th>4513682</th>\n",
       "      <td>8.0</td>\n",
       "      <td>2013-10-31 22:02:00+00:00</td>\n",
       "      <td>-73.981300</td>\n",
       "      <td>40.742939</td>\n",
       "      <td>-73.978195</td>\n",
       "      <td>40.729141</td>\n",
       "      <td>5</td>\n",
       "      <td>0.967095</td>\n",
       "      <td>8.272200</td>\n",
       "      <td>2013</td>\n",
       "      <td>10</td>\n",
       "      <td>31</td>\n",
       "      <td>3</td>\n",
       "      <td>22</td>\n",
       "    </tr>\n",
       "    <tr>\n",
       "      <th>3438882</th>\n",
       "      <td>5.7</td>\n",
       "      <td>2011-03-11 10:59:00+00:00</td>\n",
       "      <td>-73.998436</td>\n",
       "      <td>40.740383</td>\n",
       "      <td>-74.007851</td>\n",
       "      <td>40.724018</td>\n",
       "      <td>1</td>\n",
       "      <td>1.233487</td>\n",
       "      <td>4.621047</td>\n",
       "      <td>2011</td>\n",
       "      <td>3</td>\n",
       "      <td>11</td>\n",
       "      <td>4</td>\n",
       "      <td>10</td>\n",
       "    </tr>\n",
       "    <tr>\n",
       "      <th>16164427</th>\n",
       "      <td>13.5</td>\n",
       "      <td>2013-09-08 09:59:00+00:00</td>\n",
       "      <td>-73.949005</td>\n",
       "      <td>40.797157</td>\n",
       "      <td>-73.986824</td>\n",
       "      <td>40.755821</td>\n",
       "      <td>1</td>\n",
       "      <td>3.474545</td>\n",
       "      <td>3.885400</td>\n",
       "      <td>2013</td>\n",
       "      <td>9</td>\n",
       "      <td>8</td>\n",
       "      <td>6</td>\n",
       "      <td>9</td>\n",
       "    </tr>\n",
       "  </tbody>\n",
       "</table>\n",
       "</div>"
      ],
      "text/plain": [
       "          fare_amount           pickup_datetime  pickup_longitude  \\\n",
       "28191451          9.5 2012-10-28 12:44:00+00:00        -73.967438   \n",
       "25762660          7.0 2015-02-22 21:16:00+00:00        -73.991203   \n",
       "4513682           8.0 2013-10-31 22:02:00+00:00        -73.981300   \n",
       "3438882           5.7 2011-03-11 10:59:00+00:00        -73.998436   \n",
       "16164427         13.5 2013-09-08 09:59:00+00:00        -73.949005   \n",
       "\n",
       "          pickup_latitude  dropoff_longitude  dropoff_latitude  \\\n",
       "28191451        40.759869         -73.992729         40.742847   \n",
       "25762660        40.751041         -73.970543         40.748905   \n",
       "4513682         40.742939         -73.978195         40.729141   \n",
       "3438882         40.740383         -74.007851         40.724018   \n",
       "16164427        40.797157         -73.986824         40.755821   \n",
       "\n",
       "          passenger_count  distance  price/mile  year  month  day  wday  hour  \n",
       "28191451                1  1.770742    5.364984  2012     10   28     6    12  \n",
       "25762660                1  1.091447    6.413502  2015      2   22     6    21  \n",
       "4513682                 5  0.967095    8.272200  2013     10   31     3    22  \n",
       "3438882                 1  1.233487    4.621047  2011      3   11     4    10  \n",
       "16164427                1  3.474545    3.885400  2013      9    8     6     9  "
      ]
     },
     "execution_count": 8,
     "metadata": {},
     "output_type": "execute_result"
    }
   ],
   "source": [
    "df.head()"
   ]
  },
  {
   "cell_type": "code",
   "execution_count": 9,
   "metadata": {},
   "outputs": [
    {
     "data": {
      "text/html": [
       "<div>\n",
       "<style scoped>\n",
       "    .dataframe tbody tr th:only-of-type {\n",
       "        vertical-align: middle;\n",
       "    }\n",
       "\n",
       "    .dataframe tbody tr th {\n",
       "        vertical-align: top;\n",
       "    }\n",
       "\n",
       "    .dataframe thead th {\n",
       "        text-align: right;\n",
       "    }\n",
       "</style>\n",
       "<table border=\"1\" class=\"dataframe\">\n",
       "  <thead>\n",
       "    <tr style=\"text-align: right;\">\n",
       "      <th></th>\n",
       "      <th>fare_amount</th>\n",
       "      <th>pickup_longitude</th>\n",
       "      <th>pickup_latitude</th>\n",
       "      <th>dropoff_longitude</th>\n",
       "      <th>dropoff_latitude</th>\n",
       "      <th>passenger_count</th>\n",
       "      <th>distance</th>\n",
       "      <th>price/mile</th>\n",
       "      <th>year</th>\n",
       "      <th>month</th>\n",
       "      <th>day</th>\n",
       "      <th>wday</th>\n",
       "      <th>hour</th>\n",
       "    </tr>\n",
       "  </thead>\n",
       "  <tbody>\n",
       "    <tr>\n",
       "      <th>count</th>\n",
       "      <td>5.000000e+06</td>\n",
       "      <td>5.000000e+06</td>\n",
       "      <td>5.000000e+06</td>\n",
       "      <td>5.000000e+06</td>\n",
       "      <td>5.000000e+06</td>\n",
       "      <td>5.000000e+06</td>\n",
       "      <td>5.000000e+06</td>\n",
       "      <td>5.000000e+06</td>\n",
       "      <td>5.000000e+06</td>\n",
       "      <td>5.000000e+06</td>\n",
       "      <td>5.000000e+06</td>\n",
       "      <td>5.000000e+06</td>\n",
       "      <td>5.000000e+06</td>\n",
       "    </tr>\n",
       "    <tr>\n",
       "      <th>mean</th>\n",
       "      <td>9.808908e+00</td>\n",
       "      <td>-7.255847e+01</td>\n",
       "      <td>4.271819e+01</td>\n",
       "      <td>-7.255717e+01</td>\n",
       "      <td>4.271832e+01</td>\n",
       "      <td>1.688620e+00</td>\n",
       "      <td>1.774750e+00</td>\n",
       "      <td>6.838861e+00</td>\n",
       "      <td>2.011739e+03</td>\n",
       "      <td>6.256098e+00</td>\n",
       "      <td>1.570661e+01</td>\n",
       "      <td>3.051133e+00</td>\n",
       "      <td>1.350978e+01</td>\n",
       "    </tr>\n",
       "    <tr>\n",
       "      <th>std</th>\n",
       "      <td>6.230247e+00</td>\n",
       "      <td>1.415393e+00</td>\n",
       "      <td>1.990172e+00</td>\n",
       "      <td>1.414514e+00</td>\n",
       "      <td>1.989168e+00</td>\n",
       "      <td>1.305203e+00</td>\n",
       "      <td>1.525485e+00</td>\n",
       "      <td>2.797424e+00</td>\n",
       "      <td>1.866109e+00</td>\n",
       "      <td>3.440110e+00</td>\n",
       "      <td>8.687291e+00</td>\n",
       "      <td>1.945713e+00</td>\n",
       "      <td>6.571555e+00</td>\n",
       "    </tr>\n",
       "    <tr>\n",
       "      <th>min</th>\n",
       "      <td>2.500000e+00</td>\n",
       "      <td>-7.449245e+01</td>\n",
       "      <td>4.050117e+01</td>\n",
       "      <td>-7.449392e+01</td>\n",
       "      <td>4.050045e+01</td>\n",
       "      <td>1.000000e+00</td>\n",
       "      <td>1.251411e-01</td>\n",
       "      <td>2.000063e+00</td>\n",
       "      <td>2.009000e+03</td>\n",
       "      <td>1.000000e+00</td>\n",
       "      <td>1.000000e+00</td>\n",
       "      <td>0.000000e+00</td>\n",
       "      <td>0.000000e+00</td>\n",
       "    </tr>\n",
       "    <tr>\n",
       "      <th>25%</th>\n",
       "      <td>6.000000e+00</td>\n",
       "      <td>-7.399277e+01</td>\n",
       "      <td>4.073703e+01</td>\n",
       "      <td>-7.399187e+01</td>\n",
       "      <td>4.073631e+01</td>\n",
       "      <td>1.000000e+00</td>\n",
       "      <td>7.980751e-01</td>\n",
       "      <td>4.847474e+00</td>\n",
       "      <td>2.010000e+03</td>\n",
       "      <td>3.000000e+00</td>\n",
       "      <td>8.000000e+00</td>\n",
       "      <td>1.000000e+00</td>\n",
       "      <td>9.000000e+00</td>\n",
       "    </tr>\n",
       "    <tr>\n",
       "      <th>50%</th>\n",
       "      <td>8.100000e+00</td>\n",
       "      <td>-7.398265e+01</td>\n",
       "      <td>4.075308e+01</td>\n",
       "      <td>-7.398116e+01</td>\n",
       "      <td>4.075376e+01</td>\n",
       "      <td>1.000000e+00</td>\n",
       "      <td>1.309863e+00</td>\n",
       "      <td>6.199891e+00</td>\n",
       "      <td>2.012000e+03</td>\n",
       "      <td>6.000000e+00</td>\n",
       "      <td>1.600000e+01</td>\n",
       "      <td>3.000000e+00</td>\n",
       "      <td>1.400000e+01</td>\n",
       "    </tr>\n",
       "    <tr>\n",
       "      <th>75%</th>\n",
       "      <td>1.170000e+01</td>\n",
       "      <td>-7.397060e+01</td>\n",
       "      <td>4.076673e+01</td>\n",
       "      <td>-7.396734e+01</td>\n",
       "      <td>4.076822e+01</td>\n",
       "      <td>2.000000e+00</td>\n",
       "      <td>2.227077e+00</td>\n",
       "      <td>8.090645e+00</td>\n",
       "      <td>2.013000e+03</td>\n",
       "      <td>9.000000e+00</td>\n",
       "      <td>2.300000e+01</td>\n",
       "      <td>5.000000e+00</td>\n",
       "      <td>1.900000e+01</td>\n",
       "    </tr>\n",
       "    <tr>\n",
       "      <th>max</th>\n",
       "      <td>2.725400e+02</td>\n",
       "      <td>-7.286425e+01</td>\n",
       "      <td>4.177475e+01</td>\n",
       "      <td>-7.286469e+01</td>\n",
       "      <td>4.174427e+01</td>\n",
       "      <td>6.000000e+00</td>\n",
       "      <td>5.503373e+01</td>\n",
       "      <td>1.999994e+01</td>\n",
       "      <td>2.015000e+03</td>\n",
       "      <td>1.200000e+01</td>\n",
       "      <td>3.100000e+01</td>\n",
       "      <td>6.000000e+00</td>\n",
       "      <td>2.300000e+01</td>\n",
       "    </tr>\n",
       "  </tbody>\n",
       "</table>\n",
       "</div>"
      ],
      "text/plain": [
       "        fare_amount  pickup_longitude  pickup_latitude  dropoff_longitude  \\\n",
       "count  5.000000e+06      5.000000e+06     5.000000e+06       5.000000e+06   \n",
       "mean   9.808908e+00     -7.255847e+01     4.271819e+01      -7.255717e+01   \n",
       "std    6.230247e+00      1.415393e+00     1.990172e+00       1.414514e+00   \n",
       "min    2.500000e+00     -7.449245e+01     4.050117e+01      -7.449392e+01   \n",
       "25%    6.000000e+00     -7.399277e+01     4.073703e+01      -7.399187e+01   \n",
       "50%    8.100000e+00     -7.398265e+01     4.075308e+01      -7.398116e+01   \n",
       "75%    1.170000e+01     -7.397060e+01     4.076673e+01      -7.396734e+01   \n",
       "max    2.725400e+02     -7.286425e+01     4.177475e+01      -7.286469e+01   \n",
       "\n",
       "       dropoff_latitude  passenger_count      distance    price/mile  \\\n",
       "count      5.000000e+06     5.000000e+06  5.000000e+06  5.000000e+06   \n",
       "mean       4.271832e+01     1.688620e+00  1.774750e+00  6.838861e+00   \n",
       "std        1.989168e+00     1.305203e+00  1.525485e+00  2.797424e+00   \n",
       "min        4.050045e+01     1.000000e+00  1.251411e-01  2.000063e+00   \n",
       "25%        4.073631e+01     1.000000e+00  7.980751e-01  4.847474e+00   \n",
       "50%        4.075376e+01     1.000000e+00  1.309863e+00  6.199891e+00   \n",
       "75%        4.076822e+01     2.000000e+00  2.227077e+00  8.090645e+00   \n",
       "max        4.174427e+01     6.000000e+00  5.503373e+01  1.999994e+01   \n",
       "\n",
       "               year         month           day          wday          hour  \n",
       "count  5.000000e+06  5.000000e+06  5.000000e+06  5.000000e+06  5.000000e+06  \n",
       "mean   2.011739e+03  6.256098e+00  1.570661e+01  3.051133e+00  1.350978e+01  \n",
       "std    1.866109e+00  3.440110e+00  8.687291e+00  1.945713e+00  6.571555e+00  \n",
       "min    2.009000e+03  1.000000e+00  1.000000e+00  0.000000e+00  0.000000e+00  \n",
       "25%    2.010000e+03  3.000000e+00  8.000000e+00  1.000000e+00  9.000000e+00  \n",
       "50%    2.012000e+03  6.000000e+00  1.600000e+01  3.000000e+00  1.400000e+01  \n",
       "75%    2.013000e+03  9.000000e+00  2.300000e+01  5.000000e+00  1.900000e+01  \n",
       "max    2.015000e+03  1.200000e+01  3.100000e+01  6.000000e+00  2.300000e+01  "
      ]
     },
     "execution_count": 9,
     "metadata": {},
     "output_type": "execute_result"
    }
   ],
   "source": [
    "df.describe()"
   ]
  },
  {
   "cell_type": "markdown",
   "metadata": {
    "_uuid": "93bc35cbaa1b0e7627ceb4f6cd2795abc6215c9c"
   },
   "source": [
    "# Generate baseline model and submission"
   ]
  },
  {
   "cell_type": "code",
   "execution_count": 10,
   "metadata": {
    "_uuid": "38196b8bd9ca84b55fe7c6c3536b95c926b63dae"
   },
   "outputs": [],
   "source": [
    "# Create a new dataframe\n",
    "df_model = pd.DataFrame()\n",
    "df_model['distance_miles'] = df['distance']\n",
    "df_model['dropoff_to_center_miles'] = distance(nyc[1], nyc[0], df['dropoff_latitude'], df['dropoff_longitude'])\n",
    "df_model['pickup_to_center_miles'] = distance(nyc[1], nyc[0], df['pickup_latitude'], df['pickup_longitude'])\n",
    "df_model['passenger_count'] = df['passenger_count']\n",
    "df_model['year'] = df['year']\n",
    "df_model['wday'] = df['wday']\n",
    "df_model['hour'] = df['hour']\n",
    "df_model['fare_amount'] = df['fare_amount']"
   ]
  },
  {
   "cell_type": "markdown",
   "metadata": {},
   "source": [
    "## Correlation Matrix"
   ]
  },
  {
   "cell_type": "code",
   "execution_count": 11,
   "metadata": {},
   "outputs": [
    {
     "data": {
      "image/png": "[encoded data removed]",
      "text/plain": [
       "<Figure size 864x864 with 2 Axes>"
      ]
     },
     "metadata": {},
     "output_type": "display_data"
    }
   ],
   "source": [
    "# Create correlation matrix\n",
    "corrMatrix = df_model.corr()\n",
    "matrix = np.triu(df_model.corr())\n",
    "#matrix = np.tril(df_model.corr())\n",
    "\n",
    "# Show correlation matrix\n",
    "if show_diagrams == 1:\n",
    "    fig, ax = plt.subplots(figsize=(12,12)) \n",
    "    sns.set(font_scale=1.2)\n",
    "    sns.heatmap(corrMatrix, annot=True, cmap= 'coolwarm', fmt=\".3f\", square=True, mask = matrix);"
   ]
  },
  {
   "cell_type": "markdown",
   "metadata": {},
   "source": [
    "As you can see in the correlation matrix above, the strongest correlation exists between `fare_amount` and `distance_miles`."
   ]
  },
  {
   "cell_type": "markdown",
   "metadata": {
    "_uuid": "c025af2a0f475395bcaf98cae520a82be2cf042d"
   },
   "source": [
    "## Model\n",
    "\n",
    "Based on the correlation matrix, I would start with the following model:"
   ]
  },
  {
   "cell_type": "markdown",
   "metadata": {
    "_uuid": "d6e8d617975bc9ef861d3217996f4c54776f4f3e"
   },
   "source": [
    "$$\n",
    "\\text{fare amount} \\text{ ~ } \\text{distance}, \\text{dropoff_to_center}, \\text{year}\n",
    "$$"
   ]
  },
  {
   "cell_type": "code",
   "execution_count": 12,
   "metadata": {},
   "outputs": [
    {
     "data": {
      "text/plain": [
       "Index(['distance_miles', 'dropoff_to_center_miles', 'pickup_to_center_miles',\n",
       "       'passenger_count', 'year', 'wday', 'hour', 'fare_amount'],\n",
       "      dtype='object')"
      ]
     },
     "execution_count": 12,
     "metadata": {},
     "output_type": "execute_result"
    }
   ],
   "source": [
    "df_model.columns"
   ]
  },
  {
   "cell_type": "code",
   "execution_count": 13,
   "metadata": {},
   "outputs": [
    {
     "name": "stdout",
     "output_type": "stream",
     "text": [
      "Size of X: (5000000, 3)\n",
      "Size of y: (5000000,)\n"
     ]
    }
   ],
   "source": [
    "model_columns = ['distance_miles', 'dropoff_to_center_miles', 'year']\n",
    "\n",
    "# X_array with features\n",
    "X = df_model[model_columns]\n",
    "\n",
    "# y_array with the label \"fare_amount\" \n",
    "y = df_model['fare_amount'].copy()\n",
    "\n",
    "print(f'Size of X: {X.shape}')\n",
    "print(f'Size of y: {y.shape}')"
   ]
  },
  {
   "cell_type": "markdown",
   "metadata": {},
   "source": [
    "# Split data in train and test data"
   ]
  },
  {
   "cell_type": "code",
   "execution_count": 14,
   "metadata": {},
   "outputs": [],
   "source": [
    "#Split the dataframe into test and train\n",
    "X_train, X_test, y_train, y_test = train_test_split(X, y, test_size = 0.2, random_state = 101)"
   ]
  },
  {
   "cell_type": "code",
   "execution_count": 15,
   "metadata": {},
   "outputs": [],
   "source": [
    "# standard scaler\n",
    "scaler = StandardScaler()\n",
    "X_train_scaled = scaler.fit_transform(X_train)\n",
    "X_test_scaled = scaler.transform(X_test)  # apply same transformation to test data"
   ]
  },
  {
   "cell_type": "markdown",
   "metadata": {},
   "source": [
    "## Linear Regression"
   ]
  },
  {
   "cell_type": "code",
   "execution_count": 56,
   "metadata": {},
   "outputs": [],
   "source": [
    "#fit model\n",
    "lr = LinearRegression().fit(X_train, y_train)"
   ]
  },
  {
   "cell_type": "code",
   "execution_count": 57,
   "metadata": {},
   "outputs": [
    {
     "data": {
      "text/html": [
       "<div>\n",
       "<style scoped>\n",
       "    .dataframe tbody tr th:only-of-type {\n",
       "        vertical-align: middle;\n",
       "    }\n",
       "\n",
       "    .dataframe tbody tr th {\n",
       "        vertical-align: top;\n",
       "    }\n",
       "\n",
       "    .dataframe thead th {\n",
       "        text-align: right;\n",
       "    }\n",
       "</style>\n",
       "<table border=\"1\" class=\"dataframe\">\n",
       "  <thead>\n",
       "    <tr style=\"text-align: right;\">\n",
       "      <th></th>\n",
       "      <th>Coefficient</th>\n",
       "    </tr>\n",
       "  </thead>\n",
       "  <tbody>\n",
       "    <tr>\n",
       "      <th>distance_miles</th>\n",
       "      <td>3.656501</td>\n",
       "    </tr>\n",
       "    <tr>\n",
       "      <th>dropoff_to_center_miles</th>\n",
       "      <td>-0.134275</td>\n",
       "    </tr>\n",
       "    <tr>\n",
       "      <th>year</th>\n",
       "      <td>0.438858</td>\n",
       "    </tr>\n",
       "  </tbody>\n",
       "</table>\n",
       "</div>"
      ],
      "text/plain": [
       "                         Coefficient\n",
       "distance_miles              3.656501\n",
       "dropoff_to_center_miles    -0.134275\n",
       "year                        0.438858"
      ]
     },
     "execution_count": 57,
     "metadata": {},
     "output_type": "execute_result"
    }
   ],
   "source": [
    "# create coefficient dataframe\n",
    "pd.DataFrame(lr.coef_, X.columns, columns=['Coefficient'])\n",
    "#coeff_df"
   ]
  },
  {
   "cell_type": "markdown",
   "metadata": {},
   "source": [
    "The coefficients show that \n",
    "- the `fare_amount` increases by ~3.6 USD when the `distance_miles` (air-line distance) increases by 1\n",
    "- the `fare_amount` increases each `year` by ~0.4 USD"
   ]
  },
  {
   "cell_type": "code",
   "execution_count": 58,
   "metadata": {},
   "outputs": [
    {
     "name": "stdout",
     "output_type": "stream",
     "text": [
      "lr.intercept_: -879.0723928355009\n",
      "\n"
     ]
    }
   ],
   "source": [
    "print(f'lr.intercept_: {lr.intercept_}\\n')"
   ]
  },
  {
   "cell_type": "code",
   "execution_count": 66,
   "metadata": {},
   "outputs": [],
   "source": [
    "# Calculate the model scores\n",
    "scores = calc_scores(lr, X_train, X_test, y_train, y_test)"
   ]
  },
  {
   "cell_type": "code",
   "execution_count": 68,
   "metadata": {},
   "outputs": [
    {
     "name": "stdout",
     "output_type": "stream",
     "text": [
      "Model:\n",
      "LinearRegression(copy_X=True, fit_intercept=True, n_jobs=None, normalize=False)\n",
      "\n",
      "Linear Regression Score:\n",
      "Train Score: 79.74%\n",
      "Test Score: 79.72%\n",
      "\n",
      "R^2 Score:\n",
      "On train data: 79.74%\n",
      "on test data: 79.72%\n"
     ]
    }
   ],
   "source": [
    "# Output of the model scores\n",
    "print_scores(lr, 'Linear Regression', scores)"
   ]
  },
  {
   "cell_type": "code",
   "execution_count": 22,
   "metadata": {
    "_uuid": "9dd10c933221891047bcaab026abe60ab84072e0"
   },
   "outputs": [
    {
     "data": {
      "image/png": "[encoded data removed]",
      "text/plain": [
       "<Figure size 720x288 with 2 Axes>"
      ]
     },
     "metadata": {},
     "output_type": "display_data"
    },
    {
     "data": {
      "image/png": "[encoded data removed]",
      "text/plain": [
       "<Figure size 720x288 with 2 Axes>"
      ]
     },
     "metadata": {},
     "output_type": "display_data"
    }
   ],
   "source": [
    "if show_diagrams == 1:\n",
    "    model_lin = Pipeline((\n",
    "            (\"standard_scaler\", StandardScaler()),\n",
    "            (\"lin_reg\", LinearRegression()),\n",
    "        ))\n",
    "    model_lin.fit(X_train, y_train)\n",
    "\n",
    "    y_train_pred = model_lin.predict(X_train)\n",
    "    plot_prediction_analysis(y_train, y_train_pred, title='Linear Model - Trainingset')\n",
    "\n",
    "    y_test_pred = model_lin.predict(X_test)\n",
    "    plot_prediction_analysis(y_test, y_test_pred, title='Linear Model - Testset')"
   ]
  },
  {
   "cell_type": "markdown",
   "metadata": {},
   "source": [
    "## Ridge regression"
   ]
  },
  {
   "cell_type": "code",
   "execution_count": null,
   "metadata": {},
   "outputs": [],
   "source": [
    "# Parameters\n",
    "param_grid_ridge = dict(alpha=[0.001, 0.01, 0.1, 1.0])\n",
    "\n",
    "reg = GridSearchCV(Ridge(), param_grid=param_grid_ridge, cv=5, verbose=2)\n",
    "\n",
    "#fit model\n",
    "reg = reg.fit(X_train_scaled,y_train.values.ravel())\n",
    "\n",
    "# print score\n",
    "print('\\n\\nridge train score %.3f, ridge test score: %.3f' % (\n",
    "    reg.score(X_train_scaled,y_train),\n",
    "    reg.score(X_test_scaled, y_test)))\n",
    "\n",
    "#print(reg.best_estimator_.get_params())\n",
    "\n",
    "print_best_params(reg)"
   ]
  },
  {
   "cell_type": "code",
   "execution_count": 69,
   "metadata": {},
   "outputs": [],
   "source": [
    "#fit model with the best parameters from the GridSearchCV\n",
    "reg = Ridge(alpha=1).fit(X_train_scaled, y_train)"
   ]
  },
  {
   "cell_type": "code",
   "execution_count": 70,
   "metadata": {},
   "outputs": [],
   "source": [
    "# Calculate the model scores\n",
    "scores = calc_scores(reg, X_train_scaled, X_test_scaled, y_train, y_test)"
   ]
  },
  {
   "cell_type": "code",
   "execution_count": 71,
   "metadata": {},
   "outputs": [
    {
     "name": "stdout",
     "output_type": "stream",
     "text": [
      "Model:\n",
      "Ridge(alpha=1, copy_X=True, fit_intercept=True, max_iter=None, normalize=False,\n",
      "      random_state=None, solver='auto', tol=0.001)\n",
      "\n",
      "Ridge Regression Score:\n",
      "Train Score: 79.74%\n",
      "Test Score: 79.72%\n",
      "\n",
      "R^2 Score:\n",
      "On train data: 79.74%\n",
      "on test data: 79.72%\n"
     ]
    }
   ],
   "source": [
    "# Output of the model scores\n",
    "print_scores(reg, 'Ridge Regression', scores)"
   ]
  },
  {
   "cell_type": "code",
   "execution_count": 80,
   "metadata": {},
   "outputs": [
    {
     "data": {
      "text/html": [
       "<div>\n",
       "<style scoped>\n",
       "    .dataframe tbody tr th:only-of-type {\n",
       "        vertical-align: middle;\n",
       "    }\n",
       "\n",
       "    .dataframe tbody tr th {\n",
       "        vertical-align: top;\n",
       "    }\n",
       "\n",
       "    .dataframe thead th {\n",
       "        text-align: right;\n",
       "    }\n",
       "</style>\n",
       "<table border=\"1\" class=\"dataframe\">\n",
       "  <thead>\n",
       "    <tr style=\"text-align: right;\">\n",
       "      <th></th>\n",
       "      <th>Coefficient</th>\n",
       "    </tr>\n",
       "  </thead>\n",
       "  <tbody>\n",
       "    <tr>\n",
       "      <th>distance_miles</th>\n",
       "      <td>5.595553</td>\n",
       "    </tr>\n",
       "    <tr>\n",
       "      <th>dropoff_to_center_miles</th>\n",
       "      <td>-0.256570</td>\n",
       "    </tr>\n",
       "    <tr>\n",
       "      <th>year</th>\n",
       "      <td>0.819080</td>\n",
       "    </tr>\n",
       "  </tbody>\n",
       "</table>\n",
       "</div>"
      ],
      "text/plain": [
       "                         Coefficient\n",
       "distance_miles              5.595553\n",
       "dropoff_to_center_miles    -0.256570\n",
       "year                        0.819080"
      ]
     },
     "execution_count": 80,
     "metadata": {},
     "output_type": "execute_result"
    }
   ],
   "source": [
    "# create coefficient dataframe\n",
    "pd.DataFrame(reg.coef_, X.columns, columns=['Coefficient'])\n",
    "#coeff_df"
   ]
  },
  {
   "cell_type": "code",
   "execution_count": 81,
   "metadata": {},
   "outputs": [
    {
     "data": {
      "text/plain": [
       "9.830530208440848"
      ]
     },
     "execution_count": 81,
     "metadata": {},
     "output_type": "execute_result"
    }
   ],
   "source": [
    "reg.intercept_"
   ]
  },
  {
   "cell_type": "markdown",
   "metadata": {},
   "source": [
    "## SGD (Stochastic Gradient Descent) Regressor"
   ]
  },
  {
   "cell_type": "code",
   "execution_count": null,
   "metadata": {},
   "outputs": [],
   "source": [
    "# Parameters\n",
    "param_grid_sgd = dict(alpha=[0.0001, 0.001],\n",
    "                        max_iter=[50, 100],\n",
    "                        eta0=[0.01, 0.1])\n",
    "\n",
    "sgd = GridSearchCV(SGDRegressor(), param_grid=param_grid_sgd, cv=5, verbose=3)\n",
    "\n",
    "#fit model\n",
    "sgd = sgd.fit(X_train_scaled,y_train.values.ravel())\n",
    "\n",
    "#print score\n",
    "print('\\n\\nSGD train score %.3f, SGD test score: %.3f' % (\n",
    "    sgd.score(X_train_scaled,y_train),\n",
    "    sgd.score(X_test_scaled, y_test)))\n",
    "\n",
    "#print(sgd.best_estimator_.get_params())\n",
    "\n",
    "print_best_params(sgd)"
   ]
  },
  {
   "cell_type": "code",
   "execution_count": 82,
   "metadata": {},
   "outputs": [],
   "source": [
    "# fit model with the best parameters from the GridSearchCV\n",
    "sgd = SGDRegressor(alpha=.0001, max_iter=100, eta0 = .01).fit(X_train_scaled, y_train)"
   ]
  },
  {
   "cell_type": "code",
   "execution_count": 83,
   "metadata": {},
   "outputs": [],
   "source": [
    "# Calculate the model scores\n",
    "scores = calc_scores(sgd, X_train_scaled, X_test_scaled, y_train, y_test)"
   ]
  },
  {
   "cell_type": "code",
   "execution_count": 84,
   "metadata": {},
   "outputs": [
    {
     "name": "stdout",
     "output_type": "stream",
     "text": [
      "Model:\n",
      "SGDRegressor(alpha=0.0001, average=False, early_stopping=False, epsilon=0.1,\n",
      "             eta0=0.01, fit_intercept=True, l1_ratio=0.15,\n",
      "             learning_rate='invscaling', loss='squared_loss', max_iter=100,\n",
      "             n_iter_no_change=5, penalty='l2', power_t=0.25, random_state=None,\n",
      "             shuffle=True, tol=0.001, validation_fraction=0.1, verbose=0,\n",
      "             warm_start=False)\n",
      "\n",
      "SGD Regressor Score:\n",
      "Train Score: 79.73%\n",
      "Test Score: 79.71%\n",
      "\n",
      "R^2 Score:\n",
      "On train data: 79.73%\n",
      "on test data: 79.71%\n"
     ]
    }
   ],
   "source": [
    "# Output of the model scores\n",
    "print_scores(sgd, 'SGD Regressor', scores)"
   ]
  },
  {
   "cell_type": "code",
   "execution_count": 78,
   "metadata": {},
   "outputs": [
    {
     "data": {
      "text/html": [
       "<div>\n",
       "<style scoped>\n",
       "    .dataframe tbody tr th:only-of-type {\n",
       "        vertical-align: middle;\n",
       "    }\n",
       "\n",
       "    .dataframe tbody tr th {\n",
       "        vertical-align: top;\n",
       "    }\n",
       "\n",
       "    .dataframe thead th {\n",
       "        text-align: right;\n",
       "    }\n",
       "</style>\n",
       "<table border=\"1\" class=\"dataframe\">\n",
       "  <thead>\n",
       "    <tr style=\"text-align: right;\">\n",
       "      <th></th>\n",
       "      <th>Coefficient</th>\n",
       "    </tr>\n",
       "  </thead>\n",
       "  <tbody>\n",
       "    <tr>\n",
       "      <th>distance_miles</th>\n",
       "      <td>5.573389</td>\n",
       "    </tr>\n",
       "    <tr>\n",
       "      <th>dropoff_to_center_miles</th>\n",
       "      <td>-0.237382</td>\n",
       "    </tr>\n",
       "    <tr>\n",
       "      <th>year</th>\n",
       "      <td>0.864855</td>\n",
       "    </tr>\n",
       "  </tbody>\n",
       "</table>\n",
       "</div>"
      ],
      "text/plain": [
       "                         Coefficient\n",
       "distance_miles              5.573389\n",
       "dropoff_to_center_miles    -0.237382\n",
       "year                        0.864855"
      ]
     },
     "execution_count": 78,
     "metadata": {},
     "output_type": "execute_result"
    }
   ],
   "source": [
    "# create coefficient dataframe\n",
    "pd.DataFrame(sgd.coef_, X.columns, columns=['Coefficient'])\n",
    "#coeff_df"
   ]
  },
  {
   "cell_type": "code",
   "execution_count": 79,
   "metadata": {},
   "outputs": [
    {
     "data": {
      "text/plain": [
       "array([9.84425134])"
      ]
     },
     "execution_count": 79,
     "metadata": {},
     "output_type": "execute_result"
    }
   ],
   "source": [
    "sgd.intercept_"
   ]
  },
  {
   "cell_type": "markdown",
   "metadata": {},
   "source": [
    "## Random Forest"
   ]
  },
  {
   "cell_type": "code",
   "execution_count": null,
   "metadata": {},
   "outputs": [],
   "source": [
    "forest = RandomForestRegressor(n_estimators = 100,\n",
    "                              criterion = 'mse',\n",
    "                              random_state = 1,\n",
    "                              n_jobs = -1)\n",
    "\n",
    "#fit model\n",
    "forest.fit(X_train_scaled,y_train.values.ravel())"
   ]
  },
  {
   "cell_type": "code",
   "execution_count": 76,
   "metadata": {},
   "outputs": [],
   "source": [
    "# Calculate the model scores\n",
    "scores = calc_scores(forest, X_train_scaled, X_test_scaled, y_train, y_test)"
   ]
  },
  {
   "cell_type": "code",
   "execution_count": 77,
   "metadata": {},
   "outputs": [
    {
     "name": "stdout",
     "output_type": "stream",
     "text": [
      "Model:\n",
      "Ridge(alpha=1, copy_X=True, fit_intercept=True, max_iter=None, normalize=False,\n",
      "      random_state=None, solver='auto', tol=0.001)\n",
      "\n",
      "SGD Regressor Score:\n",
      "Train Score: 79.73%\n",
      "Test Score: 79.71%\n",
      "\n",
      "R^2 Score:\n",
      "On train data: 79.73%\n",
      "on test data: 79.71%\n"
     ]
    }
   ],
   "source": [
    "# Output of the model scores\n",
    "print_scores(forest, 'Random Forest', scores)"
   ]
  },
  {
   "cell_type": "markdown",
   "metadata": {},
   "source": [
    "# Delete dataframes to release memory"
   ]
  },
  {
   "cell_type": "code",
   "execution_count": null,
   "metadata": {},
   "outputs": [],
   "source": [
    "alldfs = [var for var in dir() if isinstance(eval(var), pd.core.frame.DataFrame)]\n",
    "print(alldfs)"
   ]
  },
  {
   "cell_type": "code",
   "execution_count": null,
   "metadata": {},
   "outputs": [],
   "source": [
    "del corrMatrix"
   ]
  }
 ],
 "metadata": {
  "kernelspec": {
   "display_name": "Python 3",
   "language": "python",
   "name": "python3"
  },
  "language_info": {
   "codemirror_mode": {
    "name": "ipython",
    "version": 3
   },
   "file_extension": ".py",
   "mimetype": "text/x-python",
   "name": "python",
   "nbconvert_exporter": "python",
   "pygments_lexer": "ipython3",
   "version": "3.7.6"
  },
  "toc-autonumbering": true
 },
 "nbformat": 4,
 "nbformat_minor": 4
}
