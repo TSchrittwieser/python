{
 "cells": [
  {
   "cell_type": "markdown",
   "metadata": {},
   "source": [
    "<b><font size=\"6\">New York City Taxi Fare Prediction Playground Competition</br>\n",
    "    Data Wrangling</font></b>\n",
    "\n",
    "**PDS ILV bds19: Summer School**  \n",
    "**Data Science & Business Analytics**\n",
    "\n",
    "Autor: Thomas Schrittwieser, DS191004  \n",
    "Datum: 2020-07-20\n",
    "\n",
    "---"
   ]
  },
  {
   "cell_type": "code",
   "execution_count": 1,
   "metadata": {},
   "outputs": [],
   "source": [
    "# load some default Python modules\n",
    "import numpy as np\n",
    "import pandas as pd\n",
    "import matplotlib.pyplot as plt\n",
    "import seaborn as sns\n",
    "\n",
    "%matplotlib inline\n",
    "plt.style.use('seaborn')"
   ]
  },
  {
   "cell_type": "markdown",
   "metadata": {},
   "source": [
    "## Configuration"
   ]
  },
  {
   "cell_type": "code",
   "execution_count": 50,
   "metadata": {},
   "outputs": [],
   "source": [
    "# Configuration\n",
    "\n",
    "show_maps = 0         # If you want to see the maps, choose show_maps = 1 \n",
    "show_diagrams = 1     # If you want to see the diagrams, choose show_diagrams = 1\n",
    "random_sample_df = 0  # If you want to work with a sample dataframe, choose random_sample_df = 1\n",
    "write_to_feather = 0  # If you want to store the cleaned dataframe as feather file, choose write_to_feather = 1\n",
    "\n",
    "# input filename\n",
    "input_file = '../data/new-york-city-taxi-fare-prediction/nyc_taxi_data_raw.feather'\n",
    "\n",
    "# output filename\n",
    "output_file = '../data/new-york-city-taxi-fare-prediction/nyc_taxi_data_cleaned.feather'"
   ]
  },
  {
   "cell_type": "markdown",
   "metadata": {},
   "source": [
    "# Reading data and first exploration"
   ]
  },
  {
   "cell_type": "code",
   "execution_count": 3,
   "metadata": {},
   "outputs": [],
   "source": [
    "# load the feather-file with the taxi data which was created in file '1_CSV2Feather.ipynb'\n",
    "df = pd.read_feather(input_file)"
   ]
  },
  {
   "cell_type": "code",
   "execution_count": 4,
   "metadata": {},
   "outputs": [
    {
     "name": "stdout",
     "output_type": "stream",
     "text": [
      "<class 'pandas.core.frame.DataFrame'>\n",
      "RangeIndex: 55423856 entries, 0 to 55423855\n",
      "Data columns (total 7 columns):\n",
      " #   Column             Dtype              \n",
      "---  ------             -----              \n",
      " 0   fare_amount        float32            \n",
      " 1   pickup_datetime    datetime64[ns, UTC]\n",
      " 2   pickup_longitude   float32            \n",
      " 3   pickup_latitude    float32            \n",
      " 4   dropoff_longitude  float32            \n",
      " 5   dropoff_latitude   float32            \n",
      " 6   passenger_count    uint8              \n",
      "dtypes: datetime64[ns, UTC](1), float32(5), uint8(1)\n",
      "memory usage: 1.5 GB\n"
     ]
    }
   ],
   "source": [
    "# Create a random sample dataframe with 2_000_000 elements\n",
    "if random_sample_df == 1:\n",
    "    df = df.sample(n=5_000_000, random_state=1)\n",
    "\n",
    "# Save the shape of the initial dataframe for further use\n",
    "df_initial_shape = df.shape\n",
    "df.info()"
   ]
  },
  {
   "cell_type": "code",
   "execution_count": 5,
   "metadata": {},
   "outputs": [
    {
     "data": {
      "text/html": [
       "<div>\n",
       "<style scoped>\n",
       "    .dataframe tbody tr th:only-of-type {\n",
       "        vertical-align: middle;\n",
       "    }\n",
       "\n",
       "    .dataframe tbody tr th {\n",
       "        vertical-align: top;\n",
       "    }\n",
       "\n",
       "    .dataframe thead th {\n",
       "        text-align: right;\n",
       "    }\n",
       "</style>\n",
       "<table border=\"1\" class=\"dataframe\">\n",
       "  <thead>\n",
       "    <tr style=\"text-align: right;\">\n",
       "      <th></th>\n",
       "      <th>fare_amount</th>\n",
       "      <th>pickup_datetime</th>\n",
       "      <th>pickup_longitude</th>\n",
       "      <th>pickup_latitude</th>\n",
       "      <th>dropoff_longitude</th>\n",
       "      <th>dropoff_latitude</th>\n",
       "      <th>passenger_count</th>\n",
       "    </tr>\n",
       "  </thead>\n",
       "  <tbody>\n",
       "    <tr>\n",
       "      <th>0</th>\n",
       "      <td>4.5</td>\n",
       "      <td>2009-06-15 17:26:00+00:00</td>\n",
       "      <td>-73.844315</td>\n",
       "      <td>40.721317</td>\n",
       "      <td>-73.841614</td>\n",
       "      <td>40.712276</td>\n",
       "      <td>1</td>\n",
       "    </tr>\n",
       "    <tr>\n",
       "      <th>1</th>\n",
       "      <td>16.9</td>\n",
       "      <td>2010-01-05 16:52:00+00:00</td>\n",
       "      <td>-74.016045</td>\n",
       "      <td>40.711304</td>\n",
       "      <td>-73.979271</td>\n",
       "      <td>40.782005</td>\n",
       "      <td>1</td>\n",
       "    </tr>\n",
       "    <tr>\n",
       "      <th>2</th>\n",
       "      <td>5.7</td>\n",
       "      <td>2011-08-18 00:35:00+00:00</td>\n",
       "      <td>-73.982735</td>\n",
       "      <td>40.761269</td>\n",
       "      <td>-73.991241</td>\n",
       "      <td>40.750561</td>\n",
       "      <td>2</td>\n",
       "    </tr>\n",
       "    <tr>\n",
       "      <th>3</th>\n",
       "      <td>7.7</td>\n",
       "      <td>2012-04-21 04:30:00+00:00</td>\n",
       "      <td>-73.987129</td>\n",
       "      <td>40.733143</td>\n",
       "      <td>-73.991570</td>\n",
       "      <td>40.758091</td>\n",
       "      <td>1</td>\n",
       "    </tr>\n",
       "    <tr>\n",
       "      <th>4</th>\n",
       "      <td>5.3</td>\n",
       "      <td>2010-03-09 07:51:00+00:00</td>\n",
       "      <td>-73.968094</td>\n",
       "      <td>40.768009</td>\n",
       "      <td>-73.956657</td>\n",
       "      <td>40.783764</td>\n",
       "      <td>1</td>\n",
       "    </tr>\n",
       "  </tbody>\n",
       "</table>\n",
       "</div>"
      ],
      "text/plain": [
       "   fare_amount           pickup_datetime  pickup_longitude  pickup_latitude  \\\n",
       "0          4.5 2009-06-15 17:26:00+00:00        -73.844315        40.721317   \n",
       "1         16.9 2010-01-05 16:52:00+00:00        -74.016045        40.711304   \n",
       "2          5.7 2011-08-18 00:35:00+00:00        -73.982735        40.761269   \n",
       "3          7.7 2012-04-21 04:30:00+00:00        -73.987129        40.733143   \n",
       "4          5.3 2010-03-09 07:51:00+00:00        -73.968094        40.768009   \n",
       "\n",
       "   dropoff_longitude  dropoff_latitude  passenger_count  \n",
       "0         -73.841614         40.712276                1  \n",
       "1         -73.979271         40.782005                1  \n",
       "2         -73.991241         40.750561                2  \n",
       "3         -73.991570         40.758091                1  \n",
       "4         -73.956657         40.783764                1  "
      ]
     },
     "execution_count": 5,
     "metadata": {},
     "output_type": "execute_result"
    }
   ],
   "source": [
    "df.head()"
   ]
  },
  {
   "cell_type": "code",
   "execution_count": 6,
   "metadata": {},
   "outputs": [
    {
     "data": {
      "text/html": [
       "<div>\n",
       "<style scoped>\n",
       "    .dataframe tbody tr th:only-of-type {\n",
       "        vertical-align: middle;\n",
       "    }\n",
       "\n",
       "    .dataframe tbody tr th {\n",
       "        vertical-align: top;\n",
       "    }\n",
       "\n",
       "    .dataframe thead th {\n",
       "        text-align: right;\n",
       "    }\n",
       "</style>\n",
       "<table border=\"1\" class=\"dataframe\">\n",
       "  <thead>\n",
       "    <tr style=\"text-align: right;\">\n",
       "      <th></th>\n",
       "      <th>fare_amount</th>\n",
       "      <th>pickup_longitude</th>\n",
       "      <th>pickup_latitude</th>\n",
       "      <th>dropoff_longitude</th>\n",
       "      <th>dropoff_latitude</th>\n",
       "      <th>passenger_count</th>\n",
       "    </tr>\n",
       "  </thead>\n",
       "  <tbody>\n",
       "    <tr>\n",
       "      <th>count</th>\n",
       "      <td>5.542386e+07</td>\n",
       "      <td>5.542386e+07</td>\n",
       "      <td>5.542386e+07</td>\n",
       "      <td>5.542348e+07</td>\n",
       "      <td>5.542348e+07</td>\n",
       "      <td>5.542386e+07</td>\n",
       "    </tr>\n",
       "    <tr>\n",
       "      <th>mean</th>\n",
       "      <td>8.077921e+00</td>\n",
       "      <td>-3.875290e+01</td>\n",
       "      <td>1.937328e+01</td>\n",
       "      <td>-3.875261e+01</td>\n",
       "      <td>1.937341e+01</td>\n",
       "      <td>1.685380e+00</td>\n",
       "    </tr>\n",
       "    <tr>\n",
       "      <th>std</th>\n",
       "      <td>2.055127e+01</td>\n",
       "      <td>2.556202e+01</td>\n",
       "      <td>1.414234e+01</td>\n",
       "      <td>2.553839e+01</td>\n",
       "      <td>1.412191e+01</td>\n",
       "      <td>1.327664e+00</td>\n",
       "    </tr>\n",
       "    <tr>\n",
       "      <th>min</th>\n",
       "      <td>-3.000000e+02</td>\n",
       "      <td>-3.442060e+03</td>\n",
       "      <td>-3.492264e+03</td>\n",
       "      <td>-3.442025e+03</td>\n",
       "      <td>-3.547887e+03</td>\n",
       "      <td>0.000000e+00</td>\n",
       "    </tr>\n",
       "    <tr>\n",
       "      <th>25%</th>\n",
       "      <td>6.000000e+00</td>\n",
       "      <td>-7.399207e+01</td>\n",
       "      <td>4.073493e+01</td>\n",
       "      <td>-7.399140e+01</td>\n",
       "      <td>4.073403e+01</td>\n",
       "      <td>1.000000e+00</td>\n",
       "    </tr>\n",
       "    <tr>\n",
       "      <th>50%</th>\n",
       "      <td>8.500000e+00</td>\n",
       "      <td>-7.398180e+01</td>\n",
       "      <td>4.075265e+01</td>\n",
       "      <td>-7.398015e+01</td>\n",
       "      <td>4.075316e+01</td>\n",
       "      <td>1.000000e+00</td>\n",
       "    </tr>\n",
       "    <tr>\n",
       "      <th>75%</th>\n",
       "      <td>1.250000e+01</td>\n",
       "      <td>-7.396708e+01</td>\n",
       "      <td>4.076713e+01</td>\n",
       "      <td>-7.396368e+01</td>\n",
       "      <td>4.076810e+01</td>\n",
       "      <td>2.000000e+00</td>\n",
       "    </tr>\n",
       "    <tr>\n",
       "      <th>max</th>\n",
       "      <td>9.396336e+04</td>\n",
       "      <td>3.457626e+03</td>\n",
       "      <td>3.408790e+03</td>\n",
       "      <td>3.457622e+03</td>\n",
       "      <td>3.537133e+03</td>\n",
       "      <td>2.080000e+02</td>\n",
       "    </tr>\n",
       "  </tbody>\n",
       "</table>\n",
       "</div>"
      ],
      "text/plain": [
       "        fare_amount  pickup_longitude  pickup_latitude  dropoff_longitude  \\\n",
       "count  5.542386e+07      5.542386e+07     5.542386e+07       5.542348e+07   \n",
       "mean   8.077921e+00     -3.875290e+01     1.937328e+01      -3.875261e+01   \n",
       "std    2.055127e+01      2.556202e+01     1.414234e+01       2.553839e+01   \n",
       "min   -3.000000e+02     -3.442060e+03    -3.492264e+03      -3.442025e+03   \n",
       "25%    6.000000e+00     -7.399207e+01     4.073493e+01      -7.399140e+01   \n",
       "50%    8.500000e+00     -7.398180e+01     4.075265e+01      -7.398015e+01   \n",
       "75%    1.250000e+01     -7.396708e+01     4.076713e+01      -7.396368e+01   \n",
       "max    9.396336e+04      3.457626e+03     3.408790e+03       3.457622e+03   \n",
       "\n",
       "       dropoff_latitude  passenger_count  \n",
       "count      5.542348e+07     5.542386e+07  \n",
       "mean       1.937341e+01     1.685380e+00  \n",
       "std        1.412191e+01     1.327664e+00  \n",
       "min       -3.547887e+03     0.000000e+00  \n",
       "25%        4.073403e+01     1.000000e+00  \n",
       "50%        4.075316e+01     1.000000e+00  \n",
       "75%        4.076810e+01     2.000000e+00  \n",
       "max        3.537133e+03     2.080000e+02  "
      ]
     },
     "execution_count": 6,
     "metadata": {},
     "output_type": "execute_result"
    }
   ],
   "source": [
    "df.describe()"
   ]
  },
  {
   "cell_type": "markdown",
   "metadata": {
    "_uuid": "154670900c260932248ad2594bbbfd945802c244"
   },
   "source": [
    "The following things I notice:\n",
    "\n",
    "- The minimal `fare_amount` is negative. The initial charge is $\\$2.5$ USD (https://www1.nyc.gov/site/tlc/passengers/taxi-fare.page).  \n",
    "  Fare amounts under $\\$2.5$ USD does not seem to be realistic. I will drop them from the data\n",
    "- The average `fare_amount` is about $\\$11.4$ USD with a standard deviation of $\\$9.9$ USD. When building a predictive model we want to be better than $\\$9.9$ USD.\n",
    "- Some of the minimum and maximum longitude/lattitude coordinates are way off. These I will also remove from the dataset with a bounding box for the coordinates.\n",
    "- The maximum `passenger_count` is very high. As this does not seem to be realistic I will drop them from the dataset.  \n",
    "  [NYC Passengers FAQ](https://www1.nyc.gov/site/tlc/passengers/passenger-frequently-asked-questions.page): *The maximum amount of passengers allowed in a yellow taxicab by law is four (4) in a four (4) passenger taxicab or five (5) passengers in a five (5) passenger taxicab, except that an additional passenger must be accepted if such passenger is under the age of seven (7) and is held on the lap of an adult passenger seated in the rear.*"
   ]
  },
  {
   "cell_type": "markdown",
   "metadata": {},
   "source": [
    "# Remove missing data"
   ]
  },
  {
   "cell_type": "code",
   "execution_count": 7,
   "metadata": {},
   "outputs": [
    {
     "data": {
      "text/plain": [
       "fare_amount            0\n",
       "pickup_datetime        0\n",
       "pickup_longitude       0\n",
       "pickup_latitude        0\n",
       "dropoff_longitude    376\n",
       "dropoff_latitude     376\n",
       "passenger_count        0\n",
       "dtype: int64"
      ]
     },
     "execution_count": 7,
     "metadata": {},
     "output_type": "execute_result"
    }
   ],
   "source": [
    "# Check for null-values in the DataFrame\n",
    "df.isnull().sum()"
   ]
  },
  {
   "cell_type": "code",
   "execution_count": 8,
   "metadata": {},
   "outputs": [
    {
     "name": "stdout",
     "output_type": "stream",
     "text": [
      "Number of columns with missing values: 2\n",
      "\n"
     ]
    },
    {
     "data": {
      "text/html": [
       "<div>\n",
       "<style scoped>\n",
       "    .dataframe tbody tr th:only-of-type {\n",
       "        vertical-align: middle;\n",
       "    }\n",
       "\n",
       "    .dataframe tbody tr th {\n",
       "        vertical-align: top;\n",
       "    }\n",
       "\n",
       "    .dataframe thead th {\n",
       "        text-align: right;\n",
       "    }\n",
       "</style>\n",
       "<table border=\"1\" class=\"dataframe\">\n",
       "  <thead>\n",
       "    <tr style=\"text-align: right;\">\n",
       "      <th></th>\n",
       "      <th>Abs. Count</th>\n",
       "      <th>Rel. Count</th>\n",
       "    </tr>\n",
       "    <tr>\n",
       "      <th>Columns with missing values</th>\n",
       "      <th></th>\n",
       "      <th></th>\n",
       "    </tr>\n",
       "  </thead>\n",
       "  <tbody>\n",
       "    <tr>\n",
       "      <th>dropoff_latitude</th>\n",
       "      <td>376</td>\n",
       "      <td>0.000007</td>\n",
       "    </tr>\n",
       "    <tr>\n",
       "      <th>dropoff_longitude</th>\n",
       "      <td>376</td>\n",
       "      <td>0.000007</td>\n",
       "    </tr>\n",
       "  </tbody>\n",
       "</table>\n",
       "</div>"
      ],
      "text/plain": [
       "                             Abs. Count  Rel. Count\n",
       "Columns with missing values                        \n",
       "dropoff_latitude                    376    0.000007\n",
       "dropoff_longitude                   376    0.000007"
      ]
     },
     "execution_count": 8,
     "metadata": {},
     "output_type": "execute_result"
    }
   ],
   "source": [
    "# Check for null-values in the DataFrame\n",
    "print('Number of columns with missing values: ' + str(df.isnull().any().sum()) + '\\n')\n",
    "\n",
    "# Create dataframe with the absolute and relative number of null values\n",
    "missing_values = pd.DataFrame(df.isnull().sum().sort_values(ascending=False))\n",
    "missing_values.index.names = ['Columns with missing values']\n",
    "missing_values.rename(columns={0: 'Abs. Count'}, inplace = True)\n",
    "missing_values['Rel. Count'] = missing_values['Abs. Count'] / len(df)\n",
    "missing_values[missing_values['Abs. Count']>0]"
   ]
  },
  {
   "cell_type": "markdown",
   "metadata": {},
   "source": [
    "In relative terms, the number of missing values is so small that they can be dropped."
   ]
  },
  {
   "cell_type": "code",
   "execution_count": 9,
   "metadata": {},
   "outputs": [],
   "source": [
    "# Function for the output of the data frame manipulation\n",
    "def output_data_manipulation(df_len_old, df_len_new):\n",
    "    str_len = len(str(df_len_old))\n",
    "    deleted = df_len_old - df_len_new\n",
    "    deleted = str(deleted).rjust(str_len+1)\n",
    "    print('Data frame manipulation:\\n')\n",
    "    print(f'  Old size: {df_len_old}')\n",
    "    print(f'  Deleted: ' + deleted)\n",
    "    print('  ' + '-'*(10+str_len))\n",
    "    print(f'  New size: {df_len_new}')"
   ]
  },
  {
   "cell_type": "code",
   "execution_count": 10,
   "metadata": {},
   "outputs": [
    {
     "name": "stdout",
     "output_type": "stream",
     "text": [
      "Data frame manipulation:\n",
      "\n",
      "  Old size: 55423856\n",
      "  Deleted:       376\n",
      "  ------------------\n",
      "  New size: 55423480\n"
     ]
    }
   ],
   "source": [
    "# Drop all NAs\n",
    "df_len_old = df.shape[0]\n",
    "df.dropna(inplace=True)\n",
    "df_len_new = df.shape[0]\n",
    "\n",
    "output_data_manipulation(df_len_old, df_len_new)"
   ]
  },
  {
   "cell_type": "markdown",
   "metadata": {},
   "source": [
    "# Remove values that not seem to be realistic"
   ]
  },
  {
   "cell_type": "markdown",
   "metadata": {},
   "source": [
    "## Fare amount"
   ]
  },
  {
   "cell_type": "code",
   "execution_count": 11,
   "metadata": {},
   "outputs": [
    {
     "data": {
      "text/plain": [
       "count    5.542348e+07\n",
       "mean     8.077908e+00\n",
       "std      2.055130e+01\n",
       "min     -3.000000e+02\n",
       "25%      6.000000e+00\n",
       "50%      8.500000e+00\n",
       "75%      1.250000e+01\n",
       "max      9.396336e+04\n",
       "Name: fare_amount, dtype: float64"
      ]
     },
     "execution_count": 11,
     "metadata": {},
     "output_type": "execute_result"
    }
   ],
   "source": [
    "df['fare_amount'].describe()"
   ]
  },
  {
   "cell_type": "markdown",
   "metadata": {},
   "source": [
    "- The minimal `fare_amount` is negative.\n",
    "- The initial charge is $\\$2.5$ USD (https://www1.nyc.gov/site/tlc/passengers/taxi-fare.page).\n",
    "- Fare amounts under $\\$2.5$ USD does not seem to be realistic. I will drop them from the dataset."
   ]
  },
  {
   "cell_type": "code",
   "execution_count": 12,
   "metadata": {},
   "outputs": [
    {
     "name": "stdout",
     "output_type": "stream",
     "text": [
      "Data frame manipulation:\n",
      "\n",
      "  Old size: 55423480\n",
      "  Deleted:      4747\n",
      "  ------------------\n",
      "  New size: 55418733\n"
     ]
    }
   ],
   "source": [
    "# Drop all instances with fare amount < 2.5\n",
    "df_len_old = df.shape[0]\n",
    "df = df[df['fare_amount'] >= 2.5]\n",
    "df_len_new = df.shape[0]\n",
    "\n",
    "output_data_manipulation(df_len_old, df_len_new)"
   ]
  },
  {
   "cell_type": "code",
   "execution_count": 13,
   "metadata": {},
   "outputs": [
    {
     "data": {
      "image/png": "[encoded data removed]",
      "text/plain": [
       "<Figure size 864x432 with 2 Axes>"
      ]
     },
     "metadata": {},
     "output_type": "display_data"
    }
   ],
   "source": [
    "# Histogramm & KDE of fare_amounts\n",
    "if show_diagrams == 1:\n",
    "    hist_max_fare_amount = 100\n",
    "\n",
    "    fig, (ax1, ax2) = plt.subplots(ncols=2, figsize=(12,6))\n",
    "    sns.distplot(df['fare_amount'], \n",
    "                 color=\"b\", \n",
    "                 kde_kws={\"label\": \"KDE\"}, \n",
    "                 ax=ax1)\n",
    "    ax1.set_title('Histogramm, KDE of fare amounts');\n",
    "    sns.distplot(df[df['fare_amount']<hist_max_fare_amount]['fare_amount'], \n",
    "                 color=\"b\", \n",
    "                 kde_kws={\"label\": \"KDE\"}, \n",
    "                 ax=ax2)\n",
    "    ax2.set_title(f'Histogramm, KDE of fare amounts < {hist_max_fare_amount}');"
   ]
  },
  {
   "cell_type": "markdown",
   "metadata": {
    "_uuid": "fe0ae2fdcdc14b393adb911ea349df786317f069"
   },
   "source": [
    "In the histogram of the `fare_amount` there are some small spikes between $\\$40$ and $\\$60$. This could indicate some fixed fare price e.g. to/from airport (https://www1.nyc.gov/site/tlc/passengers/taxi-fare.page)."
   ]
  },
  {
   "cell_type": "code",
   "execution_count": 14,
   "metadata": {},
   "outputs": [
    {
     "data": {
      "text/plain": [
       "22899"
      ]
     },
     "execution_count": 14,
     "metadata": {},
     "output_type": "execute_result"
    }
   ],
   "source": [
    "# Number of fare amounts higher or equal 100 USD\n",
    "(df['fare_amount']>=100).sum()"
   ]
  },
  {
   "cell_type": "markdown",
   "metadata": {},
   "source": [
    "## Passenger count"
   ]
  },
  {
   "cell_type": "code",
   "execution_count": 15,
   "metadata": {},
   "outputs": [
    {
     "data": {
      "text/plain": [
       "count    5.541873e+07\n",
       "mean     1.685395e+00\n",
       "std      1.327668e+00\n",
       "min      0.000000e+00\n",
       "25%      1.000000e+00\n",
       "50%      1.000000e+00\n",
       "75%      2.000000e+00\n",
       "max      2.080000e+02\n",
       "Name: passenger_count, dtype: float64"
      ]
     },
     "execution_count": 15,
     "metadata": {},
     "output_type": "execute_result"
    }
   ],
   "source": [
    "df['passenger_count'].describe()"
   ]
  },
  {
   "cell_type": "code",
   "execution_count": 16,
   "metadata": {},
   "outputs": [
    {
     "data": {
      "image/png": "[encoded data removed]",
      "text/plain": [
       "<Figure size 864x432 with 2 Axes>"
      ]
     },
     "metadata": {},
     "output_type": "display_data"
    }
   ],
   "source": [
    "# Histogramm of passenger count\n",
    "if show_diagrams == 1:\n",
    "    hist_max_passenger_count = 6\n",
    "\n",
    "    fig, (ax1, ax2) = plt.subplots(ncols=2, figsize=(12,6))\n",
    "    sns.distplot(df['passenger_count'], \n",
    "                 color=\"b\", \n",
    "                 kde = False,  \n",
    "                 ax=ax1)\n",
    "    ax1.set_title('Histogramm of passenger count')\n",
    "    sns.distplot(df[df['passenger_count']<=hist_max_passenger_count]['passenger_count'], \n",
    "                 color=\"b\", \n",
    "                 kde=False,\n",
    "                 ax = ax2)\n",
    "    ax2.set_title(f'Histogramm of passenger count <= {hist_max_passenger_count}');"
   ]
  },
  {
   "cell_type": "markdown",
   "metadata": {},
   "source": [
    "- The maximum `passenger_count` is very high. The maximum amount of passengers allowed in a yellow taxicab by law is four (4) in a four (4) passenger taxicab or five (5) passengers in a five (5) passenger taxicab, except that an additional passenger must be accepted if such passenger is under the age of seven (7) and is held on the lap of an adult passenger seated in the rear.  \n",
    "  So, the maximum amount of passengers is six (6).\n",
    "- Trips with zero passengers could be freight trips. These trips have no relevant information for us.\n",
    "- So I drop all trips with a `passenger_count` higher than 6 and a `passenger_count` equal to zero."
   ]
  },
  {
   "cell_type": "code",
   "execution_count": 17,
   "metadata": {},
   "outputs": [
    {
     "name": "stdout",
     "output_type": "stream",
     "text": [
      "Data frame manipulation:\n",
      "\n",
      "  Old size: 55418733\n",
      "  Deleted:    195109\n",
      "  ------------------\n",
      "  New size: 55223624\n"
     ]
    }
   ],
   "source": [
    "# Drop passenger count = 0 and passenger count > 6\n",
    "df_len_old = df.shape[0]\n",
    "df = df[(df['passenger_count']>0) & (df['passenger_count']<7)]\n",
    "df_len_new = df.shape[0]\n",
    "\n",
    "output_data_manipulation(df_len_old, df_len_new)"
   ]
  },
  {
   "cell_type": "markdown",
   "metadata": {},
   "source": [
    "## Location data\n",
    "\n",
    "New York city coordinates are (https://www.travelmath.com/cities/New+York,+NY):\n",
    "\n",
    "- longitude = -74.0063889\n",
    "- lattitude = 40.7141667\n",
    "\n",
    "I define a bounding box of interest by [long_min, long_max, latt_min, latt_max] using the minimum and maximum coordinates from the testset. This way, I'm sure to train a model for the full pickup/dropoff coordinate range of the test set."
   ]
  },
  {
   "cell_type": "code",
   "execution_count": 18,
   "metadata": {
    "_uuid": "72e773257a0ecbfa2b8e4d47eea52c650bbd302e"
   },
   "outputs": [],
   "source": [
    "# this function will also be used with the test set below\n",
    "def select_within_boundingbox(df, BB):\n",
    "    return (df.pickup_longitude >= BB[0]) & (df.pickup_longitude <= BB[1]) & \\\n",
    "           (df.pickup_latitude >= BB[2]) & (df.pickup_latitude <= BB[3]) & \\\n",
    "           (df.dropoff_longitude >= BB[0]) & (df.dropoff_longitude <= BB[1]) & \\\n",
    "           (df.dropoff_latitude >= BB[2]) & (df.dropoff_latitude <= BB[3])\n",
    "            \n",
    "# load image of NYC map\n",
    "BB = (-74.5, -72.8, 40.5, 41.8)\n",
    "nyc_map = plt.imread('https://aiblog.nl/download/nyc_-74.5_-72.8_40.5_41.8.png')\n",
    "\n",
    "# load extra image to zoom in on NYC\n",
    "BB_zoom = (-74.3, -73.7, 40.5, 40.9)\n",
    "nyc_map_zoom = plt.imread('https://aiblog.nl/download/nyc_-74.3_-73.7_40.5_40.9.png')"
   ]
  },
  {
   "cell_type": "code",
   "execution_count": 19,
   "metadata": {},
   "outputs": [
    {
     "name": "stdout",
     "output_type": "stream",
     "text": [
      "Data frame manipulation:\n",
      "\n",
      "  Old size: 55223624\n",
      "  Deleted:   1169526\n",
      "  ------------------\n",
      "  New size: 54054098\n"
     ]
    }
   ],
   "source": [
    "# Drop all instances outside the bounding box\n",
    "df_len_old = df.shape[0]\n",
    "df = df[select_within_boundingbox(df, BB)]\n",
    "df_len_new = df.shape[0]\n",
    "\n",
    "output_data_manipulation(df_len_old, df_len_new)"
   ]
  },
  {
   "cell_type": "code",
   "execution_count": 20,
   "metadata": {
    "_uuid": "7f8db4e178399b3e66fe0d6e3055adb8927f9c35"
   },
   "outputs": [],
   "source": [
    "# this function will be used more often to plot data on the NYC map\n",
    "def plot_on_map(df, BB, nyc_map, s=10, alpha=0.2):\n",
    "    fig, axs = plt.subplots(1, 2, figsize=(16,10))\n",
    "    axs[0].scatter(df.pickup_longitude, df.pickup_latitude, zorder=1, alpha=alpha, c='r', s=s)\n",
    "    axs[0].set_xlim((BB[0], BB[1]))\n",
    "    axs[0].set_ylim((BB[2], BB[3]))\n",
    "    axs[0].set_title('Pickup locations')\n",
    "    axs[0].imshow(nyc_map, zorder=0, extent=BB)\n",
    "\n",
    "    axs[1].scatter(df.dropoff_longitude, df.dropoff_latitude, zorder=1, alpha=alpha, c='r', s=s)\n",
    "    axs[1].set_xlim((BB[0], BB[1]))\n",
    "    axs[1].set_ylim((BB[2], BB[3]))\n",
    "    axs[1].set_title('Dropoff locations')\n",
    "    axs[1].imshow(nyc_map, zorder=0, extent=BB)"
   ]
  },
  {
   "cell_type": "code",
   "execution_count": 21,
   "metadata": {
    "_uuid": "96275cee1ea21ecb6453f4c664a649c747a38788"
   },
   "outputs": [],
   "source": [
    "# plot data on map\n",
    "if show_maps == 1:\n",
    "    plot_on_map(df, BB, nyc_map, s=1, alpha=0.3)"
   ]
  },
  {
   "cell_type": "code",
   "execution_count": 22,
   "metadata": {
    "_uuid": "98304d3e879df159c39508e381d1a93022052a6f"
   },
   "outputs": [],
   "source": [
    "# plot data on map zoomed in\n",
    "if show_maps == 1:\n",
    "    plot_on_map(df, BB_zoom, nyc_map_zoom, s=1, alpha=0.3)"
   ]
  },
  {
   "cell_type": "markdown",
   "metadata": {
    "_uuid": "c73572469d74e4e8a81f8bed7f70f6f0b9924a61"
   },
   "source": [
    "From the scatter plot we see that some locations are in the water. Either these are considered as noise, or we drop them from the dataset. I decided to drop them."
   ]
  },
  {
   "cell_type": "markdown",
   "metadata": {
    "_uuid": "14b04d875ee8f66f01b98262625f5432505cd981"
   },
   "source": [
    "## Removing datapoints in water\n",
    "As can be seen from the map + scatter plots above, some datapoints are located in the water. These are obviously noisy datapoints. To remove these datapoints, I create a boolean land/water map from the NYC map. For this I used Photoshop to threshold on the blue color of the water and to cleanup the map."
   ]
  },
  {
   "cell_type": "code",
   "execution_count": 23,
   "metadata": {
    "_uuid": "a98c25e83a98ebfa425d1af2c4c294d856936841"
   },
   "outputs": [],
   "source": [
    "def remove_datapoints_from_water(df):\n",
    "    def lonlat_to_xy(longitude, latitude, dx, dy, BB):\n",
    "        return (dx*(longitude - BB[0])/(BB[1]-BB[0])).astype('int'), \\\n",
    "               (dy - dy*(latitude - BB[2])/(BB[3]-BB[2])-1).astype('int')\n",
    "\n",
    "    # define bounding box\n",
    "    BB = (-74.5, -72.8, 40.5, 41.8)\n",
    "    \n",
    "    # read nyc mask and turn into boolean map with\n",
    "    # land = True, water = False\n",
    "    nyc_mask = plt.imread('https://aiblog.nl/download/nyc_mask-74.5_-72.8_40.5_41.8.png')[:,:,0] > 0.9\n",
    "    \n",
    "    # calculate for each lon,lat coordinate the xy coordinate in the mask map\n",
    "    pickup_x, pickup_y = lonlat_to_xy(df.pickup_longitude, df.pickup_latitude, \n",
    "                                      nyc_mask.shape[1], nyc_mask.shape[0], BB)\n",
    "    dropoff_x, dropoff_y = lonlat_to_xy(df.dropoff_longitude, df.dropoff_latitude, \n",
    "                                      nyc_mask.shape[1], nyc_mask.shape[0], BB)    \n",
    "    # calculate boolean index\n",
    "    idx = nyc_mask[pickup_y, pickup_x] & nyc_mask[dropoff_y, dropoff_x]\n",
    "    \n",
    "    # return only datapoints on land\n",
    "    return df[idx]"
   ]
  },
  {
   "cell_type": "code",
   "execution_count": 24,
   "metadata": {},
   "outputs": [
    {
     "name": "stdout",
     "output_type": "stream",
     "text": [
      "Data frame manipulation:\n",
      "\n",
      "  Old size: 54054098\n",
      "  Deleted:     10949\n",
      "  ------------------\n",
      "  New size: 54043149\n"
     ]
    }
   ],
   "source": [
    "# remove datapoints from water\n",
    "df_len_old = df.shape[0]\n",
    "df = remove_datapoints_from_water(df)\n",
    "df_len_new = df.shape[0]\n",
    "\n",
    "output_data_manipulation(df_len_old, df_len_new)"
   ]
  },
  {
   "cell_type": "markdown",
   "metadata": {},
   "source": [
    "# Remove zero values"
   ]
  },
  {
   "cell_type": "markdown",
   "metadata": {},
   "source": [
    "Are there columns with a minimum value of zero? On some columns, a value of zero does not make sense and indicates an invalid or missing value."
   ]
  },
  {
   "cell_type": "code",
   "execution_count": 25,
   "metadata": {},
   "outputs": [
    {
     "data": {
      "text/plain": [
       "passenger_count      0\n",
       "dropoff_latitude     0\n",
       "dropoff_longitude    0\n",
       "pickup_latitude      0\n",
       "pickup_longitude     0\n",
       "fare_amount          0\n",
       "dtype: int64"
      ]
     },
     "execution_count": 25,
     "metadata": {},
     "output_type": "execute_result"
    }
   ],
   "source": [
    "num_columns = df.select_dtypes(include=np.number).columns.tolist()\n",
    "(df[num_columns]==0).sum().sort_values(ascending=False)"
   ]
  },
  {
   "cell_type": "markdown",
   "metadata": {},
   "source": [
    "# Calculate the distance"
   ]
  },
  {
   "cell_type": "code",
   "execution_count": 26,
   "metadata": {},
   "outputs": [],
   "source": [
    "# For this plot and further analysis, we need a function to calculate the distance in miles between locations in lon,lat coordinates.\n",
    "# This function is based on https://stackoverflow.com/questions/27928/\n",
    "# calculate-distance-between-two-latitude-longitude-points-haversine-formula \n",
    "# return distance in miles\n",
    "def distance(lat1, lon1, lat2, lon2):\n",
    "    p = 0.017453292519943295 # Pi/180\n",
    "    a = 0.5 - np.cos((lat2 - lat1) * p)/2 + np.cos(lat1 * p) * np.cos(lat2 * p) * (1 - np.cos((lon2 - lon1) * p)) / 2\n",
    "    return 0.6213712 * 12742 * np.arcsin(np.sqrt(a)) # 2*R*asin..."
   ]
  },
  {
   "cell_type": "code",
   "execution_count": 27,
   "metadata": {},
   "outputs": [
    {
     "data": {
      "text/plain": [
       "count    5.404315e+07\n",
       "mean     1.567385e+00\n",
       "std      2.263958e+00\n",
       "min      0.000000e+00\n",
       "25%      7.789605e-01\n",
       "50%      1.338039e+00\n",
       "75%      2.430295e+00\n",
       "max      8.937457e+01\n",
       "Name: distance, dtype: float64"
      ]
     },
     "execution_count": 27,
     "metadata": {},
     "output_type": "execute_result"
    }
   ],
   "source": [
    "# Calculate the distance\n",
    "df['distance'] = distance(df['pickup_latitude'], df['pickup_longitude'], df['dropoff_latitude'], df['dropoff_longitude']).astype('float32')\n",
    "df['distance'].describe()"
   ]
  },
  {
   "cell_type": "markdown",
   "metadata": {},
   "source": [
    "- There are some trips with a distance of zero. These trips could be round trips and have no information for us. So I will drop them."
   ]
  },
  {
   "cell_type": "code",
   "execution_count": 28,
   "metadata": {},
   "outputs": [
    {
     "name": "stdout",
     "output_type": "stream",
     "text": [
      "Data frame manipulation:\n",
      "\n",
      "  Old size: 54043149\n",
      "  Deleted:    582165\n",
      "  ------------------\n",
      "  New size: 53460984\n"
     ]
    }
   ],
   "source": [
    "# Drop trips with a distance of zero\n",
    "df_len_old = df.shape[0]\n",
    "df = df[df['distance']!=0]\n",
    "df_len_new = df.shape[0]\n",
    "\n",
    "output_data_manipulation(df_len_old, df_len_new)"
   ]
  },
  {
   "cell_type": "code",
   "execution_count": 29,
   "metadata": {},
   "outputs": [
    {
     "data": {
      "image/png": "[encoded data removed]",
      "text/plain": [
       "<Figure size 1296x432 with 3 Axes>"
      ]
     },
     "metadata": {},
     "output_type": "display_data"
    }
   ],
   "source": [
    "# Distplot of distance\n",
    "if show_diagrams == 1:\n",
    "    dist_min1 = 11\n",
    "    dist_max1 = 14\n",
    "    dist_min2 = 50\n",
    "    dist_max2 = 90\n",
    "\n",
    "    fig, (ax1, ax2, ax3) = plt.subplots(ncols=3, figsize=(18,6))\n",
    "    sns.distplot(df['distance'], \n",
    "                 color=\"r\",\n",
    "                 kde_kws={\"label\": \"KDE\"},\n",
    "                 ax=ax1)\n",
    "    ax1.set_title('Distplot of distance')\n",
    "    sns.distplot(df[(df['distance']>dist_min1) & (df['distance']<dist_max1)]['distance'], \n",
    "                 color=\"r\",\n",
    "                 kde_kws={\"label\": \"KDE\"},\n",
    "                 bins = (dist_max1 - dist_min1)*4,\n",
    "                 ax=ax2)\n",
    "    ax2.set_title(f'Distplot of distance between {dist_min1} and {dist_max1} miles')\n",
    "    sns.distplot(df[(df['distance']>dist_min2) & (df['distance']<dist_max2)]['distance'], \n",
    "                 color=\"r\",\n",
    "                 kde_kws={\"label\": \"KDE\"},\n",
    "                 bins = (dist_max2 - dist_min2),\n",
    "                 ax=ax3)\n",
    "    ax3.set_title(f'Distplot of distance between {dist_min2} and {dist_max2} miles');"
   ]
  },
  {
   "cell_type": "markdown",
   "metadata": {},
   "source": [
    "Notice the peaks at ~13 miles and ~70 miles."
   ]
  },
  {
   "cell_type": "markdown",
   "metadata": {},
   "source": [
    "# Calculate price/mile"
   ]
  },
  {
   "cell_type": "code",
   "execution_count": 30,
   "metadata": {},
   "outputs": [
    {
     "data": {
      "text/plain": [
       "count    5.346098e+07\n",
       "mean     6.614342e+01\n",
       "std      3.049442e+03\n",
       "min      3.498168e-02\n",
       "25%      4.776332e+00\n",
       "50%      6.150697e+00\n",
       "75%      8.134265e+00\n",
       "max      1.891502e+06\n",
       "Name: price/mile, dtype: float64"
      ]
     },
     "execution_count": 30,
     "metadata": {},
     "output_type": "execute_result"
    }
   ],
   "source": [
    "# Calculate the price/mile\n",
    "df['price/mile'] = df['fare_amount']/df['distance'].astype('float32')\n",
    "df['price/mile'].describe()"
   ]
  },
  {
   "cell_type": "markdown",
   "metadata": {},
   "source": [
    "- The average price per mile is about 3.3 USD (https://www.numbeo.com/taxi-fare/in/New-York).  \n",
    "- The distance between the pick-up and drop-off points in this data set is calculated as the air line distance. The actual distance between two points is therefore equal to or higher than the calculated air-line distance. Therefore prices per mile well below 3 USD may not be possible. So I will drop all prices/mile below 2 USD."
   ]
  },
  {
   "cell_type": "code",
   "execution_count": 31,
   "metadata": {},
   "outputs": [
    {
     "data": {
      "image/png": "[encoded data removed]",
      "text/plain": [
       "<Figure size 1296x432 with 3 Axes>"
      ]
     },
     "metadata": {},
     "output_type": "display_data"
    }
   ],
   "source": [
    "# Distplot of price/mile\n",
    "if show_diagrams == 1:\n",
    "    pricemile_min1 = 0\n",
    "    pricemile_max1 = 100\n",
    "    pricemile_min2 = 0\n",
    "    pricemile_max2 = 20\n",
    "\n",
    "    fig, (ax1, ax2, ax3) = plt.subplots(ncols=3, figsize=(18,6))\n",
    "    sns.distplot(df['price/mile'],\n",
    "                 color=\"b\",\n",
    "                 kde_kws={\"label\": \"KDE\"},\n",
    "                 ax=ax1)\n",
    "    ax1.set_title('Distplot of price/mile')\n",
    "    sns.distplot(df[(df['price/mile']>pricemile_min1) & (df['price/mile']<pricemile_max1)]['price/mile'], \n",
    "                 color=\"b\",\n",
    "                 kde_kws={\"label\": \"KDE\"},\n",
    "                 ax=ax2)\n",
    "    ax2.set_title(f'Distplot of price/mile between {pricemile_min1} and {pricemile_max1} USD')\n",
    "    sns.distplot(df[(df['price/mile']>pricemile_min2) & (df['price/mile']<pricemile_max2)]['price/mile'], \n",
    "                 color=\"b\",\n",
    "                 kde_kws={\"label\": \"KDE\"},\n",
    "                 ax=ax3)\n",
    "    ax3.set_title(f'Distplot of price/mile between {pricemile_min2} and {pricemile_max2} USD');"
   ]
  },
  {
   "cell_type": "markdown",
   "metadata": {},
   "source": [
    "- As you can see in the distplot above, the range of price/mile is between 2 and 20 USD."
   ]
  },
  {
   "cell_type": "code",
   "execution_count": 32,
   "metadata": {},
   "outputs": [
    {
     "name": "stdout",
     "output_type": "stream",
     "text": [
      "Number of instances with a price/mile lower 2 USD:   155306\n",
      "Number of instances with a price/mile higher 20 USD: 1162634\n"
     ]
    }
   ],
   "source": [
    "sum_lower2 = (df['price/mile']<2).sum()\n",
    "sum_higher20 = (df['price/mile']>=20).sum()\n",
    "\n",
    "print(f'Number of instances with a price/mile lower 2 USD:   {sum_lower2}')\n",
    "print(f'Number of instances with a price/mile higher 20 USD: {sum_higher20}')"
   ]
  },
  {
   "cell_type": "code",
   "execution_count": 33,
   "metadata": {},
   "outputs": [
    {
     "name": "stdout",
     "output_type": "stream",
     "text": [
      "Data frame manipulation:\n",
      "\n",
      "  Old size: 53460984\n",
      "  Deleted:   1317940\n",
      "  ------------------\n",
      "  New size: 52143044\n"
     ]
    }
   ],
   "source": [
    "# Drop all instances with a price/mile lower 2 USD or higher 20 USD\n",
    "df_len_old = df.shape[0]\n",
    "df = df[(df['price/mile']>=2) & (df['price/mile']<20)]\n",
    "df_len_new = df.shape[0]\n",
    "\n",
    "output_data_manipulation(df_len_old, df_len_new)"
   ]
  },
  {
   "cell_type": "code",
   "execution_count": 34,
   "metadata": {},
   "outputs": [],
   "source": [
    "#ax = sns.scatterplot(x=\"distance\", y=\"fare_amount\", hue = \"year\", data=df)\n",
    "#ax.set_title('Fare amount over distance by year');"
   ]
  },
  {
   "cell_type": "markdown",
   "metadata": {
    "_uuid": "156533df0f5715bb58992530a43df212c9aa4735"
   },
   "source": [
    "# Remove trips from/to an airport\n",
    "\n",
    "Find trips from/to an airport. Depending on the distance, a trip to an airport is often fixed price."
   ]
  },
  {
   "cell_type": "code",
   "execution_count": 35,
   "metadata": {},
   "outputs": [],
   "source": [
    "airports = {\"jfk\": (-73.7822222222, 40.6441666667), # JFK airport coordinates, see https://www.travelmath.com/airport/JFK\n",
    "            \"ewr\": (-74.175, 40.69),                # Newark Liberty International Airport, see https://www.travelmath.com/airport/EWR\n",
    "            \"lgr\": (-73.87, 40.77)}                 # LaGuardia Airport, see https://www.travelmath.com/airport/LGA\n",
    "\n",
    "# Radius around the center point of the well known places. \n",
    "# All trips with a start or endpoint inside this radius are classified as trips from/to this places.\n",
    "dist_radius = 0.5\n",
    "\n",
    "# The function create 2 new columns: from_airport, to_airport\n",
    "# If there is a trip from/to an airport, the corresponding airport is shown in the column\n",
    "def airport_trips(df, airports, dist_radius):\n",
    "    for airport, coord in airports.items():\n",
    "        idx_from_airport = (distance(df.pickup_latitude, df.pickup_longitude, coord[1], coord[0]) < dist_radius)\n",
    "        idx_to_airport = (distance(df.dropoff_latitude, df.dropoff_longitude, coord[1], coord[0]) < dist_radius)\n",
    "        df.loc[idx_from_airport, 'from_airport'] = airport\n",
    "        df.loc[idx_to_airport, 'to_airport'] = airport\n",
    "    return df"
   ]
  },
  {
   "cell_type": "code",
   "execution_count": 36,
   "metadata": {},
   "outputs": [],
   "source": [
    "df = airport_trips(df, airports, dist_radius)"
   ]
  },
  {
   "cell_type": "code",
   "execution_count": 37,
   "metadata": {},
   "outputs": [],
   "source": [
    "# If you need the airport trips, here you get all trips from/to an airport in one data frame\n",
    "df_airport_trips = df[(~df['to_airport'].isnull()) | (~df['from_airport'].isnull())]"
   ]
  },
  {
   "cell_type": "code",
   "execution_count": 38,
   "metadata": {},
   "outputs": [
    {
     "data": {
      "image/png": "[encoded data removed]",
      "text/plain": [
       "<Figure size 576x396 with 1 Axes>"
      ]
     },
     "metadata": {},
     "output_type": "display_data"
    }
   ],
   "source": [
    "# Create distplot for each individual airport\n",
    "# not ready\n",
    "\n",
    "airport_names = {\"jfk\": 'JFK Airport', \n",
    "                 \"ewr\": 'Newark Liberty International Airport',\n",
    "                 \"lgr\": 'LaGuardia Airport'}\n",
    "\n",
    "# Create distplot for all airports\n",
    "if show_diagrams == 1:\n",
    "    ax = sns.distplot(df_airport_trips[df_airport_trips['fare_amount']<100]['fare_amount'], color=\"r\",\n",
    "                     kde_kws={\"label\": \"KDE\"})\n",
    "    ax.set_title('Trips from/to airports');"
   ]
  },
  {
   "cell_type": "code",
   "execution_count": 39,
   "metadata": {},
   "outputs": [
    {
     "name": "stdout",
     "output_type": "stream",
     "text": [
      "Data frame manipulation:\n",
      "\n",
      "  Old size: 52143044\n",
      "  Deleted:   2706098\n",
      "  ------------------\n",
      "  New size: 49436946\n"
     ]
    }
   ],
   "source": [
    "# create a dataframe without airport trips\n",
    "df_len_old = df.shape[0]\n",
    "df = df[(df['to_airport'].isnull()) & (df['from_airport'].isnull())]\n",
    "df.drop(columns=['from_airport', 'to_airport'], inplace=True)\n",
    "df_len_new = df.shape[0]\n",
    "\n",
    "output_data_manipulation(df_len_old, df_len_new)"
   ]
  },
  {
   "cell_type": "markdown",
   "metadata": {},
   "source": [
    "# Extract date, time information"
   ]
  },
  {
   "cell_type": "code",
   "execution_count": 40,
   "metadata": {},
   "outputs": [],
   "source": [
    "# Extract year, month, day, weekday and hour from 'pickup_datetime'\n",
    "\n",
    "df['year'] = df['pickup_datetime'].dt.year\n",
    "df['year'] = df['year'].astype('uint16')\n",
    "\n",
    "df['month'] = df['pickup_datetime'].dt.month\n",
    "df['month'] = df['month'].astype('uint8')\n",
    "\n",
    "df['day'] = df['pickup_datetime'].dt.day\n",
    "df['day'] = df['day'].astype('uint8')\n",
    "\n",
    "df['wday'] = df['pickup_datetime'].dt.weekday\n",
    "df['wday'] = df['wday'].astype('uint8')\n",
    "\n",
    "df['hour'] = df['pickup_datetime'].dt.hour\n",
    "df['hour'] = df['hour'].astype('uint8')"
   ]
  },
  {
   "cell_type": "markdown",
   "metadata": {},
   "source": [
    "# Check"
   ]
  },
  {
   "cell_type": "code",
   "execution_count": 48,
   "metadata": {},
   "outputs": [
    {
     "ename": "NameError",
     "evalue": "name 'df' is not defined",
     "output_type": "error",
     "traceback": [
      "\u001b[1;31m---------------------------------------------------------------------------\u001b[0m",
      "\u001b[1;31mNameError\u001b[0m                                 Traceback (most recent call last)",
      "\u001b[1;32m<ipython-input-48-ea8415b8a3ee>\u001b[0m in \u001b[0;36m<module>\u001b[1;34m\u001b[0m\n\u001b[1;32m----> 1\u001b[1;33m \u001b[0mdf\u001b[0m\u001b[1;33m.\u001b[0m\u001b[0mdescribe\u001b[0m\u001b[1;33m(\u001b[0m\u001b[1;33m)\u001b[0m\u001b[1;33m\u001b[0m\u001b[1;33m\u001b[0m\u001b[0m\n\u001b[0m",
      "\u001b[1;31mNameError\u001b[0m: name 'df' is not defined"
     ]
    }
   ],
   "source": [
    "df.describe()"
   ]
  },
  {
   "cell_type": "code",
   "execution_count": 42,
   "metadata": {},
   "outputs": [
    {
     "data": {
      "image/png": "[encoded data removed]",
      "text/plain": [
       "<Figure size 2808x864 with 13 Axes>"
      ]
     },
     "metadata": {},
     "output_type": "display_data"
    }
   ],
   "source": [
    "# Boxplot of all numeric columns\n",
    "if show_diagrams == 1:\n",
    "    # generate a list with the names of all numeric columns\n",
    "    num_columns = df.select_dtypes(include=np.number).columns.tolist()\n",
    "    num_columns_len = len(num_columns)\n",
    "\n",
    "    # marker for outliers\n",
    "    red_square = dict(markerfacecolor='r', marker='s')\n",
    "\n",
    "    # set counter\n",
    "    cnt=0\n",
    "\n",
    "    # draw boxplots\n",
    "    fig, ax = plt.subplots(1, num_columns_len,figsize=(num_columns_len*3, 12))\n",
    "\n",
    "    for i in num_columns:\n",
    "        ax[cnt].boxplot(df[i], flierprops=red_square)\n",
    "        ax[cnt].set_title(i)\n",
    "        cnt+=1"
   ]
  },
  {
   "cell_type": "code",
   "execution_count": 43,
   "metadata": {},
   "outputs": [
    {
     "name": "stdout",
     "output_type": "stream",
     "text": [
      "<class 'pandas.core.frame.DataFrame'>\n",
      "Int64Index: 49436946 entries, 0 to 55423855\n",
      "Data columns (total 14 columns):\n",
      " #   Column             Dtype              \n",
      "---  ------             -----              \n",
      " 0   fare_amount        float32            \n",
      " 1   pickup_datetime    datetime64[ns, UTC]\n",
      " 2   pickup_longitude   float32            \n",
      " 3   pickup_latitude    float32            \n",
      " 4   dropoff_longitude  float32            \n",
      " 5   dropoff_latitude   float32            \n",
      " 6   passenger_count    uint8              \n",
      " 7   distance           float32            \n",
      " 8   price/mile         float32            \n",
      " 9   year               uint16             \n",
      " 10  month              uint8              \n",
      " 11  day                uint8              \n",
      " 12  wday               uint8              \n",
      " 13  hour               uint8              \n",
      "dtypes: datetime64[ns, UTC](1), float32(7), uint16(1), uint8(5)\n",
      "memory usage: 2.3 GB\n"
     ]
    }
   ],
   "source": [
    "df.info()"
   ]
  },
  {
   "cell_type": "markdown",
   "metadata": {},
   "source": [
    "# Write feather-file"
   ]
  },
  {
   "cell_type": "code",
   "execution_count": 44,
   "metadata": {},
   "outputs": [],
   "source": [
    "# Reset index is necessary for writing the dataframe to feather file\n",
    "df.reset_index(inplace = True)"
   ]
  },
  {
   "cell_type": "code",
   "execution_count": 45,
   "metadata": {},
   "outputs": [],
   "source": [
    "# Write cleaned dataframe to feather file, about 2.3Gb. \n",
    "if write_to_feather == 1:\n",
    "    df.to_feather(output_file)"
   ]
  },
  {
   "cell_type": "markdown",
   "metadata": {},
   "source": [
    "# Delete dataframes to release memory"
   ]
  },
  {
   "cell_type": "code",
   "execution_count": 46,
   "metadata": {},
   "outputs": [
    {
     "name": "stdout",
     "output_type": "stream",
     "text": [
      "['_', '_41', '_5', '_6', '_8', 'df', 'df_airport_trips', 'missing_values']\n"
     ]
    }
   ],
   "source": [
    "alldfs = [var for var in dir() if isinstance(eval(var), pd.core.frame.DataFrame)]\n",
    "print(alldfs)"
   ]
  },
  {
   "cell_type": "code",
   "execution_count": 47,
   "metadata": {},
   "outputs": [],
   "source": [
    "del df\n",
    "del df_airport_trips\n",
    "del missing_values"
   ]
  }
 ],
 "metadata": {
  "kernelspec": {
   "display_name": "Python 3",
   "language": "python",
   "name": "python3"
  },
  "language_info": {
   "codemirror_mode": {
    "name": "ipython",
    "version": 3
   },
   "file_extension": ".py",
   "mimetype": "text/x-python",
   "name": "python",
   "nbconvert_exporter": "python",
   "pygments_lexer": "ipython3",
   "version": "3.7.6"
  },
  "toc-autonumbering": true
 },
 "nbformat": 4,
 "nbformat_minor": 4
}
